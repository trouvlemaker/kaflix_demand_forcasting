{
 "cells": [
  {
   "cell_type": "code",
   "execution_count": 64,
   "id": "058fd739-a1bb-4915-9abc-152269bee1a0",
   "metadata": {},
   "outputs": [],
   "source": [
    " # - Network 256 512 512 96\n",
    " # - EPOCHS = 170\n",
    " # - BATCH_SIZE = 8\n",
    " # - LEARNING_RATE = 0.001\n",
    " # - DROPOUT = 0.06"
   ]
  },
  {
   "cell_type": "code",
   "execution_count": 65,
   "id": "ac2059af-f65d-46b5-99b9-d3de8d57702f",
   "metadata": {},
   "outputs": [],
   "source": [
    "import pandas as pd\n",
    "import pickle\n",
    "from google.cloud import storage\n",
    "from google.cloud import bigquery\n",
    "from google.cloud import aiplatform\n",
    "from google.cloud import aiplatform_v1beta1\n",
    "from google.protobuf import json_format\n",
    "from google.protobuf.struct_pb2 import Value\n",
    "import matplotlib.pyplot as plt "
   ]
  },
  {
   "cell_type": "code",
   "execution_count": 66,
   "id": "20feac29-3915-40e9-86dc-f68063f7a590",
   "metadata": {},
   "outputs": [],
   "source": [
    "aiplatform.init(location='asia-northeast3')"
   ]
  },
  {
   "cell_type": "code",
   "execution_count": 67,
   "id": "721b1eea-6e73-4953-ba46-d0b5a14caffe",
   "metadata": {},
   "outputs": [],
   "source": [
    "def download_blob(bucket_name, source_blob_name, destination_file_name):\n",
    "    storage_client = storage.Client()\n",
    "    bucket = storage_client.get_bucket(bucket_name)\n",
    "    blob = bucket.blob(source_blob_name)\n",
    "    blob.download_to_filename(destination_file_name)\n"
   ]
  },
  {
   "cell_type": "code",
   "execution_count": 68,
   "id": "3768ac0c-74c4-48d6-b72e-5d6242f3c4e5",
   "metadata": {},
   "outputs": [],
   "source": [
    "download_blob(\"mlops-test-kay\", \"airport_passenger/X_val_multi_scaled_nm_ns_14_lt21_tr_fm.pkl\", \"X_val_multi_scaled_nm_ns_14_lt21_tr_fm.pkl\")"
   ]
  },
  {
   "cell_type": "code",
   "execution_count": 69,
   "id": "0c745ad9-36dc-47e9-940e-b3d05a18d60e",
   "metadata": {},
   "outputs": [],
   "source": [
    "with open('X_val_multi_scaled_nm_ns_14_lt21_tr_fm.pkl','rb') as f:\n",
    "    X_val_multi_scaled = pickle.load(f)"
   ]
  },
  {
   "cell_type": "code",
   "execution_count": 70,
   "id": "63e6a2a9-c909-49c8-a43d-4d1d8a24b5d7",
   "metadata": {
    "tags": []
   },
   "outputs": [],
   "source": [
    "X_val_multi_scaled_list=X_val_multi_scaled.tolist()"
   ]
  },
  {
   "cell_type": "code",
   "execution_count": 71,
   "id": "0a1ed709-1c03-4295-8cf6-b64038157201",
   "metadata": {
    "tags": []
   },
   "outputs": [
    {
     "name": "stdout",
     "output_type": "stream",
     "text": [
      "Prediction(predictions=[[0.782627702, 0.687446594, 0.780012608, 0.706967711, 0.827588439, 0.806501389, 0.888972402], [0.714285195, 0.716461539, 0.77088809, 0.809478879, 0.822928309, 0.823557794, 0.83104682], [0.696874261, 0.82839644, 0.760078549, 0.839441061, 0.817420602, 0.782623827, 0.867445707], [0.803503, 0.741692364, 0.843788087, 0.803868413, 0.871533036, 0.784745932, 0.769186735], [0.727860391, 0.881417871, 0.777398229, 0.801463723, 0.820484757, 0.686379552, 0.720984697], [0.903480411, 0.830502331, 0.791473031, 0.721694767, 0.697535396, 0.73243916, 0.652865291], [0.820720613, 0.827362776, 0.785177469, 0.692069173, 0.746882915, 0.635507464, 0.714092], [0.83370769, 0.819283128, 0.719549537, 0.669493258, 0.657617748, 0.705871165, 0.62865448], [0.856139421, 0.706506729, 0.724678814, 0.619706571, 0.669199228, 0.630709052, 0.655869305], [0.742549241, 0.744049668, 0.635814607, 0.658295751, 0.649718225, 0.630834103, 0.656764925], [0.732413292, 0.589489937, 0.698335767, 0.660927892, 0.693622112, 0.60053122, 0.705607057], [0.660044432, 0.704256594, 0.606728315, 0.674619257, 0.643321812, 0.618676543, 0.607884884], [0.713077724, 0.589724898, 0.647167385, 0.648999333, 0.650331616, 0.580498517, 0.646859407], [0.639926791, 0.676730514, 0.668138921, 0.612991691, 0.615795195, 0.586693704, 0.706790745], [0.687368274, 0.689319253, 0.608988702, 0.59520781, 0.594999373, 0.637092471, 0.709155679]], deployed_model_id='8750740366585495552', model_version_id='1', model_resource_name='projects/392016637758/locations/asia-northeast3/models/2189611436018237440', explanations=None)\n"
     ]
    }
   ],
   "source": [
    "aiplatform.init(project='charged-genre-350106', location='asia-northeast3')\n",
    "\n",
    "endpoint = aiplatform.Endpoint('3003443554618966016')\n",
    "\n",
    "prediction = endpoint.predict(instances=X_val_multi_scaled_list)\n",
    "print(prediction)"
   ]
  },
  {
   "cell_type": "markdown",
   "id": "9a5998a3-d770-4e3a-95bc-f89b9041a124",
   "metadata": {
    "tags": []
   },
   "source": [
    "## Inverse scaling을 위해 빅쿼리에 있는 tr, ts데이터로 scaling, inverse sclaing"
   ]
  },
  {
   "cell_type": "code",
   "execution_count": 72,
   "id": "1fd7f51f-5c93-4d92-88a4-aea085b855e0",
   "metadata": {},
   "outputs": [
    {
     "name": "stdout",
     "output_type": "stream",
     "text": [
      "X: (183, 420) Y: (183, 1)\n",
      "X: (21, 420) Y: (21, 1)\n",
      "X_train_scaled: (183, 420) Y_train_gru: (183, 1)\n",
      "X_val_scaled: (21, 420) Y_val_gru: (21, 1)\n"
     ]
    }
   ],
   "source": [
    "# Ignore the warnings\n",
    "import warnings\n",
    "warnings.filterwarnings('always')\n",
    "warnings.filterwarnings('ignore')\n",
    "\n",
    "# Data manipulation, visualization and useful functions\n",
    "import argparse\n",
    "import os\n",
    "import pandas as pd\n",
    "import numpy as np\n",
    "from sklearn import preprocessing\n",
    "\n",
    "# gcp functions\n",
    "from google.cloud import bigquery\n",
    "from google.cloud import storage\n",
    "import time\n",
    "from datetime import datetime, timedelta\n",
    "import pickle\n",
    "\n",
    "n_steps=7\n",
    "\n",
    "# Set up BigQuery & Storage clients\n",
    "bqclient = bigquery.Client(project='charged-genre-350106')\n",
    "storage_client = storage.Client(project='charged-genre-350106')\n",
    "\n",
    "# Query for base dataset\n",
    "query_tr = \"\"\"\n",
    "    SELECT *\n",
    "    FROM `charged-genre-350106.demand_forecasting.airport_passenger_tr_nm_ns_14_lt21_tr_fm`\n",
    "    \"\"\"\n",
    "\n",
    "query_vd = \"\"\"\n",
    "    SELECT *\n",
    "    FROM `charged-genre-350106.demand_forecasting.airport_passenger_ts_nm_ns_14_lt21_tr_fm`\n",
    "    \"\"\"\n",
    "\n",
    "trds = bqclient.query(query_tr).to_dataframe()\n",
    "tsds = bqclient.query(query_vd).to_dataframe()\n",
    "trds=trds.sort_values(by='datetime')\n",
    "tsds=tsds.sort_values(by='datetime')\n",
    "\n",
    "def datasplit_X_Y(data, Y_colname, X_colname):\n",
    "    X_colname = [x for x in data.columns if x not in Y_colname + X_remove]\n",
    "    Y_data = data[Y_colname]\n",
    "    X_data = data[X_colname]\n",
    "    print('X:', X_data.shape, 'Y:', Y_data.shape)\n",
    "    return X_data, Y_data\n",
    "\n",
    "# Data Split to X and Y\n",
    "Y_colname = ['count']\n",
    "X_remove = ['datetime', 'data_split']\n",
    "X_colname = [x for x in trds.columns if x not in Y_colname]# + X_remove]\n",
    "X_train, Y_train = datasplit_X_Y(trds, Y_colname, X_colname)\n",
    "X_val, Y_val = datasplit_X_Y(tsds, Y_colname, X_colname)\n",
    "\n",
    "continous_feature=[\n",
    "'ticket_8', 'ticket_9', 'ticket_10','ticket_11','ticket_12','ticket_13','ticket_14',\n",
    "                    'ticket_15','ticket_16', 'ticket_17','ticket_18','ticket_19','ticket_20','ticket_21',\n",
    "                    'ticket_22', 'ticket_23', 'ticket_24','ticket_25','ticket_26','ticket_27','ticket_28',\n",
    "                    'fare_min_8','fare_min_9','fare_min_10','fare_min_11','fare_min_12','fare_min_13','fare_min_14',\n",
    "                    'fare_min_15','fare_min_16','fare_min_17','fare_min_18','fare_min_19','fare_min_20','fare_min_21',\n",
    "                    'fare_min_22','fare_min_23','fare_min_24','fare_min_25','fare_min_26','fare_min_27','fare_min_28',\n",
    "                    'fare_max_8','fare_max_9','fare_max_10','fare_max_11','fare_max_12','fare_max_13','fare_max_14',\n",
    "                    'fare_max_15','fare_max_16','fare_max_17','fare_max_18','fare_max_19','fare_max_20','fare_max_21',\n",
    "                    'fare_max_22','fare_max_23','fare_max_24','fare_max_25','fare_max_26','fare_max_27','fare_max_28',\n",
    "                    'fare_avg_8','fare_avg_9','fare_avg_10','fare_avg_11','fare_avg_12','fare_avg_13','fare_avg_14',\n",
    "                    'fare_avg_15','fare_avg_16','fare_avg_17','fare_avg_18','fare_avg_19','fare_avg_20','fare_avg_21',\n",
    "                    'fare_avg_22','fare_avg_23','fare_avg_24','fare_avg_25','fare_avg_26','fare_avg_27','fare_avg_28',\n",
    "                    'fare_std_8','fare_std_9','fare_std_10','fare_std_11','fare_std_12','fare_std_13','fare_std_14',\n",
    "                    'fare_std_15','fare_std_16','fare_std_17','fare_std_18','fare_std_19','fare_std_20','fare_std_21',\n",
    "                    'fare_std_22','fare_std_23','fare_std_24','fare_std_25','fare_std_26','fare_std_27','fare_std_28',\n",
    "                    'seat_min_8','seat_min_9','seat_min_10','seat_min_11','seat_min_12','seat_min_13','seat_min_14',\n",
    "                    'seat_min_15','seat_min_16','seat_min_17','seat_min_18','seat_min_19','seat_min_20','seat_min_21',\n",
    "                    'seat_min_22','seat_min_23','seat_min_24','seat_min_25','seat_min_26','seat_min_27','seat_min_28',\n",
    "                    'seat_max_8','seat_max_9','seat_max_10','seat_max_11','seat_max_12','seat_max_13','seat_max_14',\n",
    "                    'seat_max_15','seat_max_16','seat_max_17','seat_max_18','seat_max_19','seat_max_20','seat_max_21',\n",
    "                    'seat_max_22','seat_max_23','seat_max_24','seat_max_25','seat_max_26','seat_max_27','seat_max_28',\n",
    "                    'seat_avg_8','seat_avg_9','seat_avg_10','seat_avg_11','seat_avg_12','seat_avg_13','seat_avg_14',\n",
    "                    'seat_avg_15','seat_avg_16','seat_avg_17','seat_avg_18','seat_avg_19','seat_avg_20','seat_avg_21',\n",
    "                    'seat_avg_22','seat_avg_23','seat_avg_24','seat_avg_25','seat_avg_26','seat_avg_27','seat_avg_28',\n",
    "                    'seat_std_8','seat_std_9','seat_std_10','seat_std_11','seat_std_12','seat_std_13','seat_std_14',\n",
    "                    'seat_std_15','seat_std_16','seat_std_17','seat_std_18','seat_std_19','seat_std_20','seat_std_21',\n",
    "                    'seat_std_22','seat_std_23','seat_std_24','seat_std_25','seat_std_26','seat_std_27','seat_std_28',\n",
    "                    'b_8','b_9','b_10','b_11','b_12','b_13','b_14','b_15','b_16','b_17','b_18','b_19','b_20','b_21','b_22','b_23','b_24','b_25','b_26','b_27','b_28',\n",
    "                    'f_8','f_9','f_10','f_11','f_12','f_13','f_14','f_15','f_16','f_17','f_18','f_19','f_20','f_21','f_22','f_23','f_24','f_25','f_26','f_27','f_28',\n",
    "                    'd_8','d_9','d_10','d_11','d_12','d_13','d_14','d_15','d_16','d_17','d_18','d_19','d_20','d_21','d_22','d_23','d_24','d_25','d_26','d_27','d_28',\n",
    "                    's_8','s_9','s_10','s_11','s_12','s_13','s_14','s_15','s_16','s_17','s_18','s_19','s_20','s_21','s_22','s_23','s_24','s_25','s_26','s_27','s_28',\n",
    "                    'sd_8','sd_9','sd_10','sd_11','sd_12','sd_13','sd_14','sd_15','sd_16','sd_17','sd_18','sd_19','sd_20','sd_21','sd_22','sd_23','sd_24','sd_25','sd_26','sd_27','sd_28',\n",
    "                      'lt_8',   'lt_9',   'lt_10',  'lt_11',  'lt_12',  'lt_13', 'lt_14',\n",
    "                      'lt_15',   'lt_16',   'lt_17',  'lt_18',  'lt_19',  'lt_20', 'lt_21',\n",
    "                      'lt_22',   'lt_23',   'lt_24',   'lt_25',   'lt_26',   'lt_27' , 'lt_28',   \n",
    "                      'f330_8',   'f330_9',   'f330_10',  'f330_11',  'f330_12',  'f330_13', 'f330_14',\n",
    "                      'f330_15',  'f330_16',  'f330_17',  'f330_18',  'f330_19',  'f330_20', 'f330_21',\n",
    "                      'f330_22',  'f330_23',  'f330_24',  'f330_25',  'f330_26',  'f330_27' ,'f330_28', \n",
    "                      'f737_8',   'f737_9',   'f737_10',  'f737_11',  'f737_12',  'f737_13', 'f737_14',\n",
    "                      'f737_15',  'f737_16',  'f737_17',  'f737_18',  'f737_19',  'f737_20', 'f737_21',\n",
    "                      'f737_22',   'f737_23',   'f737_24',   'f737_25',   'f737_26',   'f737_27' , 'f737_28',   \n",
    "                      'group_8',   'group_9',   'group_10',  'group_11',  'group_12',  'group_13', 'group_14',\n",
    "                      'group_15',   'group_16',   'group_17',  'group_18',  'group_19',  'group_20', 'group_21',\n",
    "                      'group_22',   'group_23',   'group_24',   'group_25',   'group_26',   'group_27' , 'group_28', \n",
    "                      'total_8',   'total_9',   'total_10',  'total_11',  'total_12',  'total_13', 'total_14',\n",
    "                      'total_15',   'total_16',   'total_17',  'total_18',  'total_19',  'total_20', 'total_21',\n",
    "                      'total_22',   'total_23',   'total_24',   'total_25',   'total_26',   'total_27' , 'total_28',\n",
    "                      'count_lag14','count_lag15','count_lag16','count_lag17','count_lag18','count_lag19','count_lag20'\n",
    "]\n",
    "\n",
    "category_feature=[\n",
    "'holiday', 'long_h', 'b_long_h', 'inter_h', 'b_inter_h','first_m','b_first_m',\n",
    "'dayofweek_dummy_0','dayofweek_dummy_1','dayofweek_dummy_2','dayofweek_dummy_3','dayofweek_dummy_4','dayofweek_dummy_5','dayofweek_dummy_6'\n",
    "]\n",
    "scaler_X_tr = preprocessing.MinMaxScaler()\n",
    "scaler_Y_tr = preprocessing.MinMaxScaler()\n",
    "\n",
    "def scaling(x_train, y_train, x_val, y_val, scaler_X_tr=scaler_X_tr,scaler_Y_tr=scaler_Y_tr):\n",
    "    \n",
    "    ## Scaling\n",
    "    X_train_con = scaler_X_tr.fit_transform(x_train[continous_feature])\n",
    "    X_train_cat = x_train[category_feature].to_numpy()\n",
    "    X_train_scaled = np.concatenate((X_train_con, X_train_cat), axis=1)\n",
    "    Y_train_scaled = scaler_Y_tr.fit_transform(y_train)\n",
    "\n",
    "    X_val_con = scaler_X_tr.transform(x_val[continous_feature])\n",
    "    X_val_cat = x_val[category_feature].to_numpy()\n",
    "    X_val_scaled = np.concatenate((X_val_con, X_val_cat), axis=1)\n",
    "    Y_val_scaled = scaler_Y_tr.transform(y_val)\n",
    "    \n",
    "    print('X_train_scaled:', X_train_scaled.shape, 'Y_train_gru:', Y_train_scaled.shape)\n",
    "    print('X_val_scaled:', X_val_scaled.shape, 'Y_val_gru:', Y_val_scaled.shape)\n",
    "    \n",
    "    return X_train_scaled, Y_train_scaled, X_val_scaled, Y_val_scaled\n",
    "\n",
    "def inverse_scaling(data, scaler_Y_tr=scaler_Y_tr):\n",
    "    data_scaled = np.empty([data.shape[1], data.shape[0]])\n",
    "    for i in range(data.shape[1]):\n",
    "        data_scaled[i] = scaler_Y_tr.inverse_transform([data[:,i]])\n",
    "    return data_scaled.transpose()\n",
    "\n",
    "X_train_scaled, Y_train_scaled, X_val_scaled, Y_val_scaled = scaling(X_train, Y_train, X_val, Y_val)"
   ]
  },
  {
   "cell_type": "code",
   "execution_count": 73,
   "id": "7f1a28a1-81fd-4e5c-b83e-527de90d64bf",
   "metadata": {},
   "outputs": [
    {
     "data": {
      "text/plain": [
       "array([[0.21181001, 0.07701422, 0.13709423, ..., 0.        , 0.        ,\n",
       "        0.        ],\n",
       "       [0.1745828 , 0.56161137, 0.12095808, ..., 0.        , 0.        ,\n",
       "        0.        ],\n",
       "       [0.11424904, 0.17535545, 0.70179641, ..., 1.        , 0.        ,\n",
       "        0.        ],\n",
       "       ...,\n",
       "       [0.47111682, 0.46208531, 0.47784431, ..., 0.        , 0.        ,\n",
       "        0.        ],\n",
       "       [0.45699615, 0.38862559, 0.42634731, ..., 0.        , 0.        ,\n",
       "        0.        ],\n",
       "       [0.3478819 , 0.33175355, 0.30299401, ..., 0.        , 0.        ,\n",
       "        0.        ]])"
      ]
     },
     "execution_count": 73,
     "metadata": {},
     "output_type": "execute_result"
    }
   ],
   "source": [
    "X_train_scaled"
   ]
  },
  {
   "cell_type": "code",
   "execution_count": 74,
   "id": "5527e385-e358-4f4f-a11e-156c1cdb1c4c",
   "metadata": {},
   "outputs": [],
   "source": [
    "def multi_input(x_test_scaled):\n",
    "    ## X / Y Split for test\n",
    "    X_test_multi_scaled = []\n",
    "    for index in range(n_steps, len(x_test_scaled)+1):\n",
    "        # find the end of this pattern\n",
    "        end_ix = index \n",
    "        out_end_ix = end_ix -1\n",
    "        # check if we are beyoind the dataset\n",
    "        if out_end_ix > len(x_test_scaled):\n",
    "            break\n",
    "        # gather input and output part of the pattern\n",
    "        seq_x= x_test_scaled[index - n_steps : index, :]\n",
    "        X_test_multi_scaled.append(seq_x)\n",
    "    X_test_multi_scaled = np.array(X_test_multi_scaled)\n",
    "    print('Predict_multi_scaled:', X_test_multi_scaled.shape)\n",
    "    return X_test_multi_scaled"
   ]
  },
  {
   "cell_type": "code",
   "execution_count": 75,
   "id": "bb043f46-a5f0-4c9c-9dc5-8c15c186b260",
   "metadata": {},
   "outputs": [],
   "source": [
    "def multi_input(x_train_scaled, y_train_scaled, x_val_scaled, y_val_scaled):\n",
    "    ## X / Y Split for train\n",
    "    X_train_multi_scaled, Y_train_multi_scaled = [], []\n",
    "    for index in range(n_steps, len(x_train_scaled)+1):\n",
    "        # find the end of this pattern\n",
    "        end_ix = index \n",
    "        out_end_ix = end_ix -1\n",
    "        # check if we are beyoind the dataset\n",
    "        if out_end_ix > len(x_train_scaled):\n",
    "            break\n",
    "        # gather input and output part of the pattern\n",
    "        seq_x, seq_y = x_train_scaled[index - n_steps: index, :], y_train_scaled[index - n_steps: index, -1]\n",
    "        X_train_multi_scaled.append(seq_x)\n",
    "        Y_train_multi_scaled.append(seq_y)\n",
    "    X_train_multi_scaled, Y_train_multi_scaled = np.array(X_train_multi_scaled), np.array(Y_train_multi_scaled) \n",
    "    print('X_train_multi_scaled:', X_train_multi_scaled.shape, 'Y_train_multi_scaled:', Y_train_multi_scaled.shape)\n",
    "    ## X / Y Split for val\n",
    "    X_val_multi_scaled, Y_val_multi_scaled = [], []\n",
    "    for index in range(n_steps, len(x_val_scaled)+1):\n",
    "        # find the end of this pattern\n",
    "        end_ix = index \n",
    "        out_end_ix = end_ix -1\n",
    "        # check if we are beyoind the dataset\n",
    "        if out_end_ix > len(x_val_scaled):\n",
    "            break\n",
    "        # gather input and output part of the pattern\n",
    "        seq_x, seq_y = x_val_scaled[index - n_steps : index, :], y_val_scaled[index - n_steps : index, -1]\n",
    "        X_val_multi_scaled.append(seq_x)\n",
    "        Y_val_multi_scaled.append(seq_y)\n",
    "    X_val_multi_scaled, Y_val_multi_scaled = np.array(X_val_multi_scaled), np.array(Y_val_multi_scaled) \n",
    "    print('X_val_multi_scaled:', X_val_multi_scaled.shape, 'Y_val_multi_scaled:', Y_val_multi_scaled.shape)\n",
    "    \n",
    "    return X_train_multi_scaled, Y_train_multi_scaled, X_val_multi_scaled, Y_val_multi_scaled"
   ]
  },
  {
   "cell_type": "code",
   "execution_count": 76,
   "id": "97b6927c-fad4-478c-bb92-2deb5c50216e",
   "metadata": {},
   "outputs": [
    {
     "data": {
      "text/plain": [
       "(21, 420)"
      ]
     },
     "execution_count": 76,
     "metadata": {},
     "output_type": "execute_result"
    }
   ],
   "source": [
    "np.shape(X_val_scaled)"
   ]
  },
  {
   "cell_type": "code",
   "execution_count": 77,
   "id": "48b0bc01-2c9b-472f-8913-1956acfade8e",
   "metadata": {},
   "outputs": [
    {
     "name": "stdout",
     "output_type": "stream",
     "text": [
      "X_train_multi_scaled: (177, 7, 420) Y_train_multi_scaled: (177, 7)\n",
      "X_val_multi_scaled: (15, 7, 420) Y_val_multi_scaled: (15, 7)\n"
     ]
    }
   ],
   "source": [
    "X_train_multi_scaled, Y_train_multi_scaled, X_val_multi_scaled, Y_val_multi_scaled = multi_input(X_train_scaled, Y_train_scaled, X_val_scaled, Y_val_scaled)"
   ]
  },
  {
   "cell_type": "code",
   "execution_count": 78,
   "id": "36ad1361-ce8d-4b3d-9d29-3fbd8b808b09",
   "metadata": {},
   "outputs": [],
   "source": [
    "raw_predictions_0=endpoint.predict(instances=X_val_multi_scaled.tolist()).predictions[0]"
   ]
  },
  {
   "cell_type": "code",
   "execution_count": 79,
   "id": "765d34a5-12c6-499b-b725-69949bb2cd8b",
   "metadata": {},
   "outputs": [],
   "source": [
    "\n",
    "predicted_values_0=inverse_scaling(np.array([raw_predictions_0])).round().tolist()"
   ]
  },
  {
   "cell_type": "code",
   "execution_count": 80,
   "id": "ad63564e-a65c-4d22-8d86-cdb86e1f03e3",
   "metadata": {},
   "outputs": [
    {
     "data": {
      "text/plain": [
       "[[42442.0, 39824.0, 41684.0, 40437.0, 42716.0, 37535.0, 41579.0]]"
      ]
     },
     "execution_count": 80,
     "metadata": {},
     "output_type": "execute_result"
    }
   ],
   "source": [
    "predicted_values_0"
   ]
  },
  {
   "cell_type": "code",
   "execution_count": 81,
   "id": "8842d03c-fec2-4a0a-9bff-0ba1173fd612",
   "metadata": {},
   "outputs": [],
   "source": [
    "raw_predictions_1=endpoint.predict(instances=X_val_multi_scaled.tolist()).predictions[1]\n",
    "predicted_values_1=inverse_scaling(np.array([raw_predictions_1])).round().tolist()"
   ]
  },
  {
   "cell_type": "code",
   "execution_count": 82,
   "id": "1341209f-1eb5-4e29-b924-70c39aa5d06b",
   "metadata": {},
   "outputs": [
    {
     "data": {
      "text/plain": [
       "[[40336.0, 40328.0, 41378.0, 41338.0, 39397.0, 39494.0, 42284.0]]"
      ]
     },
     "execution_count": 82,
     "metadata": {},
     "output_type": "execute_result"
    }
   ],
   "source": [
    "predicted_values_1"
   ]
  },
  {
   "cell_type": "code",
   "execution_count": 83,
   "id": "b977966c-1098-456e-9dc2-1c7c86ce4272",
   "metadata": {},
   "outputs": [
    {
     "data": {
      "text/plain": [
       "[[40090.0, 43247.0, 40006.0, 40371.0, 39971.0, 41017.0, 44067.0]]"
      ]
     },
     "execution_count": 83,
     "metadata": {},
     "output_type": "execute_result"
    }
   ],
   "source": [
    "raw_predictions_2=endpoint.predict(instances=X_val_multi_scaled.tolist()).predictions[2]\n",
    "predicted_values_2=inverse_scaling(np.array([raw_predictions_2])).round().tolist()\n",
    "predicted_values_2"
   ]
  },
  {
   "cell_type": "code",
   "execution_count": 84,
   "id": "600c5360-ddee-405c-b797-792282468a9a",
   "metadata": {},
   "outputs": [
    {
     "data": {
      "text/plain": [
       "[[42652.0, 40278.0, 40525.0, 40597.0, 43013.0, 43026.0, 46175.0]]"
      ]
     },
     "execution_count": 84,
     "metadata": {},
     "output_type": "execute_result"
    }
   ],
   "source": [
    "raw_predictions_3=endpoint.predict(instances=X_val_multi_scaled.tolist()).predictions[3]\n",
    "predicted_values_3=inverse_scaling(np.array([raw_predictions_3])).round().tolist()\n",
    "predicted_values_3"
   ]
  },
  {
   "cell_type": "code",
   "execution_count": 85,
   "id": "3ed70545-266a-4975-913b-31df7613a982",
   "metadata": {},
   "outputs": [
    {
     "data": {
      "text/plain": [
       "[[41145.0, 39716.0, 41939.0, 42663.0, 44415.0, 44453.0, 43604.0]]"
      ]
     },
     "execution_count": 85,
     "metadata": {},
     "output_type": "execute_result"
    }
   ],
   "source": [
    "raw_predictions_4=endpoint.predict(instances=X_val_multi_scaled.tolist()).predictions[4]\n",
    "predicted_values_4=inverse_scaling(np.array([raw_predictions_4])).round().tolist()\n",
    "predicted_values_4"
   ]
  },
  {
   "cell_type": "code",
   "execution_count": 86,
   "id": "8eab1d7b-22f0-47b8-976b-0bf79a954f69",
   "metadata": {},
   "outputs": [
    {
     "data": {
      "text/plain": [
       "[[39921.0, 41661.0, 42442.0, 44687.0, 44135.0, 42440.0, 42824.0]]"
      ]
     },
     "execution_count": 86,
     "metadata": {},
     "output_type": "execute_result"
    }
   ],
   "source": [
    "raw_predictions_5=endpoint.predict(instances=X_val_multi_scaled.tolist()).predictions[5]\n",
    "predicted_values_5=inverse_scaling(np.array([raw_predictions_5])).round().tolist()\n",
    "predicted_values_5"
   ]
  },
  {
   "cell_type": "code",
   "execution_count": 87,
   "id": "df55b481-94db-42ea-bcdf-1fdc5c27d0aa",
   "metadata": {},
   "outputs": [
    {
     "data": {
      "text/plain": [
       "[[41621.0, 42687.0, 44210.0, 43598.0, 43400.0, 41853.0, 40750.0]]"
      ]
     },
     "execution_count": 87,
     "metadata": {},
     "output_type": "execute_result"
    }
   ],
   "source": [
    "raw_predictions_6=endpoint.predict(instances=X_val_multi_scaled.tolist()).predictions[6]\n",
    "predicted_values_6=inverse_scaling(np.array([raw_predictions_6])).round().tolist()\n",
    "predicted_values_6"
   ]
  },
  {
   "cell_type": "code",
   "execution_count": 88,
   "id": "eee4345d-b03c-4619-a105-b7dca74ca5f9",
   "metadata": {},
   "outputs": [
    {
     "data": {
      "text/plain": [
       "[[42148.0, 44919.0, 43956.0, 42138.0, 43923.0, 38924.0, 40431.0]]"
      ]
     },
     "execution_count": 88,
     "metadata": {},
     "output_type": "execute_result"
    }
   ],
   "source": [
    "raw_predictions_7=endpoint.predict(instances=X_val_multi_scaled.tolist()).predictions[7]\n",
    "predicted_values_7=inverse_scaling(np.array([raw_predictions_7])).round().tolist()\n",
    "predicted_values_7"
   ]
  },
  {
   "cell_type": "code",
   "execution_count": 89,
   "id": "228bb3d3-d644-4aff-91ff-23dad0cd3c9d",
   "metadata": {},
   "outputs": [
    {
     "data": {
      "text/plain": [
       "[[44278.0, 46153.0, 43217.0, 39547.0, 42370.0, 37970.0, 39472.0]]"
      ]
     },
     "execution_count": 89,
     "metadata": {},
     "output_type": "execute_result"
    }
   ],
   "source": [
    "raw_predictions_8=endpoint.predict(instances=X_val_multi_scaled.tolist()).predictions[8]\n",
    "predicted_values_8=inverse_scaling(np.array([raw_predictions_8])).round().tolist()\n",
    "predicted_values_8"
   ]
  },
  {
   "cell_type": "code",
   "execution_count": 90,
   "id": "3fce6ac9-ee8d-4f7d-a4fe-f31c178de7d1",
   "metadata": {},
   "outputs": [
    {
     "data": {
      "text/plain": [
       "[[45640.0, 43798.0, 41674.0, 38920.0, 38304.0, 39312.0, 37937.0]]"
      ]
     },
     "execution_count": 90,
     "metadata": {},
     "output_type": "execute_result"
    }
   ],
   "source": [
    "raw_predictions_9=endpoint.predict(instances=X_val_multi_scaled.tolist()).predictions[9]\n",
    "predicted_values_9=inverse_scaling(np.array([raw_predictions_9])).round().tolist()\n",
    "predicted_values_9"
   ]
  },
  {
   "cell_type": "code",
   "execution_count": 91,
   "id": "40a7d27f-64af-4859-a4f7-2f653c84b3fa",
   "metadata": {},
   "outputs": [
    {
     "data": {
      "text/plain": [
       "[[43426.0, 44272.0, 40654.0, 37224.0, 39203.0, 36989.0, 39824.0]]"
      ]
     },
     "execution_count": 91,
     "metadata": {},
     "output_type": "execute_result"
    }
   ],
   "source": [
    "raw_predictions_10=endpoint.predict(instances=X_val_multi_scaled.tolist()).predictions[10]\n",
    "predicted_values_10=inverse_scaling(np.array([raw_predictions_10])).round().tolist()\n",
    "predicted_values_10"
   ]
  },
  {
   "cell_type": "code",
   "execution_count": 92,
   "id": "ac27ef6c-52fe-48e5-9a98-c23c6120d666",
   "metadata": {},
   "outputs": [
    {
     "data": {
      "text/plain": [
       "[[42985.0, 41287.0, 38672.0, 38074.0, 37984.0, 39324.0, 40206.0]]"
      ]
     },
     "execution_count": 92,
     "metadata": {},
     "output_type": "execute_result"
    }
   ],
   "source": [
    "raw_predictions_11=endpoint.predict(instances=X_val_multi_scaled.tolist()).predictions[11]\n",
    "predicted_values_11=inverse_scaling(np.array([raw_predictions_11])).round().tolist()\n",
    "predicted_values_11"
   ]
  },
  {
   "cell_type": "code",
   "execution_count": 93,
   "id": "f7f214f0-94ca-4046-bb93-f155dbe97703",
   "metadata": {},
   "outputs": [
    {
     "data": {
      "text/plain": [
       "[[42985.0, 41287.0, 38672.0, 38074.0, 37984.0, 39324.0, 40206.0]]"
      ]
     },
     "execution_count": 93,
     "metadata": {},
     "output_type": "execute_result"
    }
   ],
   "source": [
    "raw_predictions_12=endpoint.predict(instances=X_val_multi_scaled.tolist()).predictions[12]\n",
    "predicted_values_12=inverse_scaling(np.array([raw_predictions_11])).round().tolist()\n",
    "predicted_values_12"
   ]
  },
  {
   "cell_type": "code",
   "execution_count": 94,
   "id": "81756296-d608-41bc-ad47-740eb95adb1c",
   "metadata": {},
   "outputs": [
    {
     "data": {
      "text/plain": [
       "[[42985.0, 41287.0, 38672.0, 38074.0, 37984.0, 39324.0, 40206.0]]"
      ]
     },
     "execution_count": 94,
     "metadata": {},
     "output_type": "execute_result"
    }
   ],
   "source": [
    "raw_predictions_13=endpoint.predict(instances=X_val_multi_scaled.tolist()).predictions[13]\n",
    "predicted_values_13=inverse_scaling(np.array([raw_predictions_11])).round().tolist()\n",
    "predicted_values_13"
   ]
  },
  {
   "cell_type": "code",
   "execution_count": 95,
   "id": "560c95b7-e0ad-44fc-ba0c-203f80533bd0",
   "metadata": {},
   "outputs": [
    {
     "data": {
      "text/plain": [
       "[[42985.0, 41287.0, 38672.0, 38074.0, 37984.0, 39324.0, 40206.0]]"
      ]
     },
     "execution_count": 95,
     "metadata": {},
     "output_type": "execute_result"
    }
   ],
   "source": [
    "raw_predictions_14=endpoint.predict(instances=X_val_multi_scaled.tolist()).predictions[14]\n",
    "predicted_values_14=inverse_scaling(np.array([raw_predictions_11])).round().tolist()\n",
    "predicted_values_14"
   ]
  },
  {
   "cell_type": "code",
   "execution_count": null,
   "id": "4c71f984-895d-409c-b9c5-a2b71628f5c3",
   "metadata": {},
   "outputs": [],
   "source": []
  },
  {
   "cell_type": "code",
   "execution_count": null,
   "id": "464db27e-f9f4-4b6d-82ff-c36727cca8f3",
   "metadata": {},
   "outputs": [],
   "source": []
  },
  {
   "cell_type": "code",
   "execution_count": null,
   "id": "9fd0cf13-37c8-4059-a0e4-2a5466a43a98",
   "metadata": {},
   "outputs": [],
   "source": []
  },
  {
   "cell_type": "code",
   "execution_count": 96,
   "id": "3d8bdc35-832e-4ded-b308-90ea1ed19359",
   "metadata": {},
   "outputs": [],
   "source": [
    "predicted_vlaues_=predicted_values_0 + predicted_values_1+predicted_values_2 + predicted_values_3 +predicted_values_4 + predicted_values_5+predicted_values_6 + predicted_values_7+predicted_values_8+predicted_values_9+predicted_values_10 + predicted_values_11+predicted_values_12+predicted_values_13 + predicted_values_14"
   ]
  },
  {
   "cell_type": "code",
   "execution_count": 97,
   "id": "ad8d2591-7cf2-45ac-916e-c736cf02e91e",
   "metadata": {},
   "outputs": [
    {
     "data": {
      "text/plain": [
       "[[42442.0, 39824.0, 41684.0, 40437.0, 42716.0, 37535.0, 41579.0],\n",
       " [40336.0, 40328.0, 41378.0, 41338.0, 39397.0, 39494.0, 42284.0],\n",
       " [40090.0, 43247.0, 40006.0, 40371.0, 39971.0, 41017.0, 44067.0],\n",
       " [42652.0, 40278.0, 40525.0, 40597.0, 43013.0, 43026.0, 46175.0],\n",
       " [41145.0, 39716.0, 41939.0, 42663.0, 44415.0, 44453.0, 43604.0],\n",
       " [39921.0, 41661.0, 42442.0, 44687.0, 44135.0, 42440.0, 42824.0],\n",
       " [41621.0, 42687.0, 44210.0, 43598.0, 43400.0, 41853.0, 40750.0],\n",
       " [42148.0, 44919.0, 43956.0, 42138.0, 43923.0, 38924.0, 40431.0],\n",
       " [44278.0, 46153.0, 43217.0, 39547.0, 42370.0, 37970.0, 39472.0],\n",
       " [45640.0, 43798.0, 41674.0, 38920.0, 38304.0, 39312.0, 37937.0],\n",
       " [43426.0, 44272.0, 40654.0, 37224.0, 39203.0, 36989.0, 39824.0],\n",
       " [42985.0, 41287.0, 38672.0, 38074.0, 37984.0, 39324.0, 40206.0],\n",
       " [42985.0, 41287.0, 38672.0, 38074.0, 37984.0, 39324.0, 40206.0],\n",
       " [42985.0, 41287.0, 38672.0, 38074.0, 37984.0, 39324.0, 40206.0],\n",
       " [42985.0, 41287.0, 38672.0, 38074.0, 37984.0, 39324.0, 40206.0]]"
      ]
     },
     "execution_count": 97,
     "metadata": {},
     "output_type": "execute_result"
    }
   ],
   "source": [
    "predicted_vlaues_"
   ]
  },
  {
   "cell_type": "code",
   "execution_count": 98,
   "id": "71c67cc3-a474-4a93-9f12-f7d56540ee3c",
   "metadata": {},
   "outputs": [],
   "source": [
    "actual_values = inverse_scaling(np.array(Y_val_multi_scaled))"
   ]
  },
  {
   "cell_type": "code",
   "execution_count": 99,
   "id": "6eab2e00-449a-4273-8d84-d485dbc9d869",
   "metadata": {},
   "outputs": [],
   "source": [
    "actual_values_=actual_values.tolist()"
   ]
  },
  {
   "cell_type": "code",
   "execution_count": 100,
   "id": "48a03a22-3cae-4036-bd92-67488fb3c46c",
   "metadata": {},
   "outputs": [
    {
     "data": {
      "text/plain": [
       "[[41756.0, 40501.0, 40099.0, 42128.0, 40279.0, 39051.0, 42938.0],\n",
       " [40501.0, 40099.0, 42128.0, 40279.0, 39051.0, 42938.0, 44547.0],\n",
       " [40099.0, 42128.0, 40279.0, 39051.0, 42938.0, 44547.0, 46218.0],\n",
       " [42128.0, 40279.0, 39051.0, 42938.0, 44547.0, 46218.0, 47420.0],\n",
       " [40279.0, 39051.0, 42938.0, 44547.0, 46218.0, 47420.0, 43780.0],\n",
       " [39051.0, 42938.0, 44547.0, 46218.0, 47420.0, 43780.0, 41193.0],\n",
       " [42938.0, 44547.0, 46218.0, 47420.0, 43780.0, 41193.0, 39262.0],\n",
       " [44547.0, 46218.0, 47420.0, 43780.0, 41193.0, 39262.0, 37247.0],\n",
       " [46218.0, 47420.0, 43780.0, 41193.0, 39262.0, 37247.0, 38866.0],\n",
       " [47420.0, 43780.0, 41193.0, 39262.0, 37247.0, 38866.0, 40935.0],\n",
       " [43780.0, 41193.0, 39262.0, 37247.0, 38866.0, 40935.0, 40362.0],\n",
       " [41193.0, 39262.0, 37247.0, 38866.0, 40935.0, 40362.0, 42797.0],\n",
       " [39262.0, 37247.0, 38866.0, 40935.0, 40362.0, 42797.0, 43548.0],\n",
       " [37247.0, 38866.0, 40935.0, 40362.0, 42797.0, 43548.0, 39563.0],\n",
       " [38866.0, 40935.0, 40362.0, 42797.0, 43548.0, 39563.0, 39869.0]]"
      ]
     },
     "execution_count": 100,
     "metadata": {},
     "output_type": "execute_result"
    }
   ],
   "source": [
    "actual_values_"
   ]
  },
  {
   "cell_type": "code",
   "execution_count": 101,
   "id": "d3360275-19eb-4e0b-b23c-d08dd1b2a46e",
   "metadata": {},
   "outputs": [
    {
     "data": {
      "text/plain": [
       "1776.7619047619048"
      ]
     },
     "execution_count": 101,
     "metadata": {},
     "output_type": "execute_result"
    }
   ],
   "source": [
    "difference = []\n",
    "\n",
    "for a, b in zip(predicted_vlaues_, actual_values_):\n",
    "    for c, d in zip(a,b):\n",
    "        difference.append(c - d)\n",
    "\n",
    "difference \n",
    "\n",
    "for x in range(len(difference)):\n",
    "    difference[x]= abs(difference[x])\n",
    "\n",
    "def average(lst):\n",
    "    return sum(lst) / len(lst)\n",
    "\n",
    "average(difference)"
   ]
  },
  {
   "cell_type": "code",
   "execution_count": 102,
   "id": "02f71990-a724-4f1c-97c0-13548d8634c6",
   "metadata": {},
   "outputs": [
    {
     "data": {
      "text/html": [
       "<div>\n",
       "<style scoped>\n",
       "    .dataframe tbody tr th:only-of-type {\n",
       "        vertical-align: middle;\n",
       "    }\n",
       "\n",
       "    .dataframe tbody tr th {\n",
       "        vertical-align: top;\n",
       "    }\n",
       "\n",
       "    .dataframe thead th {\n",
       "        text-align: right;\n",
       "    }\n",
       "</style>\n",
       "<table border=\"1\" class=\"dataframe\">\n",
       "  <thead>\n",
       "    <tr style=\"text-align: right;\">\n",
       "      <th></th>\n",
       "      <th>0</th>\n",
       "      <th>1</th>\n",
       "      <th>2</th>\n",
       "      <th>3</th>\n",
       "      <th>4</th>\n",
       "      <th>5</th>\n",
       "      <th>6</th>\n",
       "    </tr>\n",
       "  </thead>\n",
       "  <tbody>\n",
       "    <tr>\n",
       "      <th>0</th>\n",
       "      <td>41756.0</td>\n",
       "      <td>40501.0</td>\n",
       "      <td>40099.0</td>\n",
       "      <td>42128.0</td>\n",
       "      <td>40279.0</td>\n",
       "      <td>39051.0</td>\n",
       "      <td>42938.0</td>\n",
       "    </tr>\n",
       "    <tr>\n",
       "      <th>1</th>\n",
       "      <td>40501.0</td>\n",
       "      <td>40099.0</td>\n",
       "      <td>42128.0</td>\n",
       "      <td>40279.0</td>\n",
       "      <td>39051.0</td>\n",
       "      <td>42938.0</td>\n",
       "      <td>44547.0</td>\n",
       "    </tr>\n",
       "    <tr>\n",
       "      <th>2</th>\n",
       "      <td>40099.0</td>\n",
       "      <td>42128.0</td>\n",
       "      <td>40279.0</td>\n",
       "      <td>39051.0</td>\n",
       "      <td>42938.0</td>\n",
       "      <td>44547.0</td>\n",
       "      <td>46218.0</td>\n",
       "    </tr>\n",
       "    <tr>\n",
       "      <th>3</th>\n",
       "      <td>42128.0</td>\n",
       "      <td>40279.0</td>\n",
       "      <td>39051.0</td>\n",
       "      <td>42938.0</td>\n",
       "      <td>44547.0</td>\n",
       "      <td>46218.0</td>\n",
       "      <td>47420.0</td>\n",
       "    </tr>\n",
       "    <tr>\n",
       "      <th>4</th>\n",
       "      <td>40279.0</td>\n",
       "      <td>39051.0</td>\n",
       "      <td>42938.0</td>\n",
       "      <td>44547.0</td>\n",
       "      <td>46218.0</td>\n",
       "      <td>47420.0</td>\n",
       "      <td>43780.0</td>\n",
       "    </tr>\n",
       "    <tr>\n",
       "      <th>5</th>\n",
       "      <td>39051.0</td>\n",
       "      <td>42938.0</td>\n",
       "      <td>44547.0</td>\n",
       "      <td>46218.0</td>\n",
       "      <td>47420.0</td>\n",
       "      <td>43780.0</td>\n",
       "      <td>41193.0</td>\n",
       "    </tr>\n",
       "    <tr>\n",
       "      <th>6</th>\n",
       "      <td>42938.0</td>\n",
       "      <td>44547.0</td>\n",
       "      <td>46218.0</td>\n",
       "      <td>47420.0</td>\n",
       "      <td>43780.0</td>\n",
       "      <td>41193.0</td>\n",
       "      <td>39262.0</td>\n",
       "    </tr>\n",
       "    <tr>\n",
       "      <th>7</th>\n",
       "      <td>44547.0</td>\n",
       "      <td>46218.0</td>\n",
       "      <td>47420.0</td>\n",
       "      <td>43780.0</td>\n",
       "      <td>41193.0</td>\n",
       "      <td>39262.0</td>\n",
       "      <td>37247.0</td>\n",
       "    </tr>\n",
       "    <tr>\n",
       "      <th>8</th>\n",
       "      <td>46218.0</td>\n",
       "      <td>47420.0</td>\n",
       "      <td>43780.0</td>\n",
       "      <td>41193.0</td>\n",
       "      <td>39262.0</td>\n",
       "      <td>37247.0</td>\n",
       "      <td>38866.0</td>\n",
       "    </tr>\n",
       "    <tr>\n",
       "      <th>9</th>\n",
       "      <td>47420.0</td>\n",
       "      <td>43780.0</td>\n",
       "      <td>41193.0</td>\n",
       "      <td>39262.0</td>\n",
       "      <td>37247.0</td>\n",
       "      <td>38866.0</td>\n",
       "      <td>40935.0</td>\n",
       "    </tr>\n",
       "    <tr>\n",
       "      <th>10</th>\n",
       "      <td>43780.0</td>\n",
       "      <td>41193.0</td>\n",
       "      <td>39262.0</td>\n",
       "      <td>37247.0</td>\n",
       "      <td>38866.0</td>\n",
       "      <td>40935.0</td>\n",
       "      <td>40362.0</td>\n",
       "    </tr>\n",
       "    <tr>\n",
       "      <th>11</th>\n",
       "      <td>41193.0</td>\n",
       "      <td>39262.0</td>\n",
       "      <td>37247.0</td>\n",
       "      <td>38866.0</td>\n",
       "      <td>40935.0</td>\n",
       "      <td>40362.0</td>\n",
       "      <td>42797.0</td>\n",
       "    </tr>\n",
       "    <tr>\n",
       "      <th>12</th>\n",
       "      <td>39262.0</td>\n",
       "      <td>37247.0</td>\n",
       "      <td>38866.0</td>\n",
       "      <td>40935.0</td>\n",
       "      <td>40362.0</td>\n",
       "      <td>42797.0</td>\n",
       "      <td>43548.0</td>\n",
       "    </tr>\n",
       "    <tr>\n",
       "      <th>13</th>\n",
       "      <td>37247.0</td>\n",
       "      <td>38866.0</td>\n",
       "      <td>40935.0</td>\n",
       "      <td>40362.0</td>\n",
       "      <td>42797.0</td>\n",
       "      <td>43548.0</td>\n",
       "      <td>39563.0</td>\n",
       "    </tr>\n",
       "    <tr>\n",
       "      <th>14</th>\n",
       "      <td>38866.0</td>\n",
       "      <td>40935.0</td>\n",
       "      <td>40362.0</td>\n",
       "      <td>42797.0</td>\n",
       "      <td>43548.0</td>\n",
       "      <td>39563.0</td>\n",
       "      <td>39869.0</td>\n",
       "    </tr>\n",
       "  </tbody>\n",
       "</table>\n",
       "</div>"
      ],
      "text/plain": [
       "          0        1        2        3        4        5        6\n",
       "0   41756.0  40501.0  40099.0  42128.0  40279.0  39051.0  42938.0\n",
       "1   40501.0  40099.0  42128.0  40279.0  39051.0  42938.0  44547.0\n",
       "2   40099.0  42128.0  40279.0  39051.0  42938.0  44547.0  46218.0\n",
       "3   42128.0  40279.0  39051.0  42938.0  44547.0  46218.0  47420.0\n",
       "4   40279.0  39051.0  42938.0  44547.0  46218.0  47420.0  43780.0\n",
       "5   39051.0  42938.0  44547.0  46218.0  47420.0  43780.0  41193.0\n",
       "6   42938.0  44547.0  46218.0  47420.0  43780.0  41193.0  39262.0\n",
       "7   44547.0  46218.0  47420.0  43780.0  41193.0  39262.0  37247.0\n",
       "8   46218.0  47420.0  43780.0  41193.0  39262.0  37247.0  38866.0\n",
       "9   47420.0  43780.0  41193.0  39262.0  37247.0  38866.0  40935.0\n",
       "10  43780.0  41193.0  39262.0  37247.0  38866.0  40935.0  40362.0\n",
       "11  41193.0  39262.0  37247.0  38866.0  40935.0  40362.0  42797.0\n",
       "12  39262.0  37247.0  38866.0  40935.0  40362.0  42797.0  43548.0\n",
       "13  37247.0  38866.0  40935.0  40362.0  42797.0  43548.0  39563.0\n",
       "14  38866.0  40935.0  40362.0  42797.0  43548.0  39563.0  39869.0"
      ]
     },
     "execution_count": 102,
     "metadata": {},
     "output_type": "execute_result"
    }
   ],
   "source": [
    "pd.DataFrame(actual_values_)"
   ]
  },
  {
   "cell_type": "code",
   "execution_count": 103,
   "id": "75c1c450-5b88-41db-963f-e67fa7ce1fb6",
   "metadata": {},
   "outputs": [
    {
     "data": {
      "text/html": [
       "<div>\n",
       "<style scoped>\n",
       "    .dataframe tbody tr th:only-of-type {\n",
       "        vertical-align: middle;\n",
       "    }\n",
       "\n",
       "    .dataframe tbody tr th {\n",
       "        vertical-align: top;\n",
       "    }\n",
       "\n",
       "    .dataframe thead th {\n",
       "        text-align: right;\n",
       "    }\n",
       "</style>\n",
       "<table border=\"1\" class=\"dataframe\">\n",
       "  <thead>\n",
       "    <tr style=\"text-align: right;\">\n",
       "      <th></th>\n",
       "      <th>0</th>\n",
       "      <th>1</th>\n",
       "      <th>2</th>\n",
       "      <th>3</th>\n",
       "      <th>4</th>\n",
       "      <th>5</th>\n",
       "      <th>6</th>\n",
       "    </tr>\n",
       "  </thead>\n",
       "  <tbody>\n",
       "    <tr>\n",
       "      <th>0</th>\n",
       "      <td>42442.0</td>\n",
       "      <td>39824.0</td>\n",
       "      <td>41684.0</td>\n",
       "      <td>40437.0</td>\n",
       "      <td>42716.0</td>\n",
       "      <td>37535.0</td>\n",
       "      <td>41579.0</td>\n",
       "    </tr>\n",
       "    <tr>\n",
       "      <th>1</th>\n",
       "      <td>40336.0</td>\n",
       "      <td>40328.0</td>\n",
       "      <td>41378.0</td>\n",
       "      <td>41338.0</td>\n",
       "      <td>39397.0</td>\n",
       "      <td>39494.0</td>\n",
       "      <td>42284.0</td>\n",
       "    </tr>\n",
       "    <tr>\n",
       "      <th>2</th>\n",
       "      <td>40090.0</td>\n",
       "      <td>43247.0</td>\n",
       "      <td>40006.0</td>\n",
       "      <td>40371.0</td>\n",
       "      <td>39971.0</td>\n",
       "      <td>41017.0</td>\n",
       "      <td>44067.0</td>\n",
       "    </tr>\n",
       "    <tr>\n",
       "      <th>3</th>\n",
       "      <td>42652.0</td>\n",
       "      <td>40278.0</td>\n",
       "      <td>40525.0</td>\n",
       "      <td>40597.0</td>\n",
       "      <td>43013.0</td>\n",
       "      <td>43026.0</td>\n",
       "      <td>46175.0</td>\n",
       "    </tr>\n",
       "    <tr>\n",
       "      <th>4</th>\n",
       "      <td>41145.0</td>\n",
       "      <td>39716.0</td>\n",
       "      <td>41939.0</td>\n",
       "      <td>42663.0</td>\n",
       "      <td>44415.0</td>\n",
       "      <td>44453.0</td>\n",
       "      <td>43604.0</td>\n",
       "    </tr>\n",
       "    <tr>\n",
       "      <th>5</th>\n",
       "      <td>39921.0</td>\n",
       "      <td>41661.0</td>\n",
       "      <td>42442.0</td>\n",
       "      <td>44687.0</td>\n",
       "      <td>44135.0</td>\n",
       "      <td>42440.0</td>\n",
       "      <td>42824.0</td>\n",
       "    </tr>\n",
       "    <tr>\n",
       "      <th>6</th>\n",
       "      <td>41621.0</td>\n",
       "      <td>42687.0</td>\n",
       "      <td>44210.0</td>\n",
       "      <td>43598.0</td>\n",
       "      <td>43400.0</td>\n",
       "      <td>41853.0</td>\n",
       "      <td>40750.0</td>\n",
       "    </tr>\n",
       "    <tr>\n",
       "      <th>7</th>\n",
       "      <td>42148.0</td>\n",
       "      <td>44919.0</td>\n",
       "      <td>43956.0</td>\n",
       "      <td>42138.0</td>\n",
       "      <td>43923.0</td>\n",
       "      <td>38924.0</td>\n",
       "      <td>40431.0</td>\n",
       "    </tr>\n",
       "    <tr>\n",
       "      <th>8</th>\n",
       "      <td>44278.0</td>\n",
       "      <td>46153.0</td>\n",
       "      <td>43217.0</td>\n",
       "      <td>39547.0</td>\n",
       "      <td>42370.0</td>\n",
       "      <td>37970.0</td>\n",
       "      <td>39472.0</td>\n",
       "    </tr>\n",
       "    <tr>\n",
       "      <th>9</th>\n",
       "      <td>45640.0</td>\n",
       "      <td>43798.0</td>\n",
       "      <td>41674.0</td>\n",
       "      <td>38920.0</td>\n",
       "      <td>38304.0</td>\n",
       "      <td>39312.0</td>\n",
       "      <td>37937.0</td>\n",
       "    </tr>\n",
       "    <tr>\n",
       "      <th>10</th>\n",
       "      <td>43426.0</td>\n",
       "      <td>44272.0</td>\n",
       "      <td>40654.0</td>\n",
       "      <td>37224.0</td>\n",
       "      <td>39203.0</td>\n",
       "      <td>36989.0</td>\n",
       "      <td>39824.0</td>\n",
       "    </tr>\n",
       "    <tr>\n",
       "      <th>11</th>\n",
       "      <td>42985.0</td>\n",
       "      <td>41287.0</td>\n",
       "      <td>38672.0</td>\n",
       "      <td>38074.0</td>\n",
       "      <td>37984.0</td>\n",
       "      <td>39324.0</td>\n",
       "      <td>40206.0</td>\n",
       "    </tr>\n",
       "    <tr>\n",
       "      <th>12</th>\n",
       "      <td>42985.0</td>\n",
       "      <td>41287.0</td>\n",
       "      <td>38672.0</td>\n",
       "      <td>38074.0</td>\n",
       "      <td>37984.0</td>\n",
       "      <td>39324.0</td>\n",
       "      <td>40206.0</td>\n",
       "    </tr>\n",
       "    <tr>\n",
       "      <th>13</th>\n",
       "      <td>42985.0</td>\n",
       "      <td>41287.0</td>\n",
       "      <td>38672.0</td>\n",
       "      <td>38074.0</td>\n",
       "      <td>37984.0</td>\n",
       "      <td>39324.0</td>\n",
       "      <td>40206.0</td>\n",
       "    </tr>\n",
       "    <tr>\n",
       "      <th>14</th>\n",
       "      <td>42985.0</td>\n",
       "      <td>41287.0</td>\n",
       "      <td>38672.0</td>\n",
       "      <td>38074.0</td>\n",
       "      <td>37984.0</td>\n",
       "      <td>39324.0</td>\n",
       "      <td>40206.0</td>\n",
       "    </tr>\n",
       "  </tbody>\n",
       "</table>\n",
       "</div>"
      ],
      "text/plain": [
       "          0        1        2        3        4        5        6\n",
       "0   42442.0  39824.0  41684.0  40437.0  42716.0  37535.0  41579.0\n",
       "1   40336.0  40328.0  41378.0  41338.0  39397.0  39494.0  42284.0\n",
       "2   40090.0  43247.0  40006.0  40371.0  39971.0  41017.0  44067.0\n",
       "3   42652.0  40278.0  40525.0  40597.0  43013.0  43026.0  46175.0\n",
       "4   41145.0  39716.0  41939.0  42663.0  44415.0  44453.0  43604.0\n",
       "5   39921.0  41661.0  42442.0  44687.0  44135.0  42440.0  42824.0\n",
       "6   41621.0  42687.0  44210.0  43598.0  43400.0  41853.0  40750.0\n",
       "7   42148.0  44919.0  43956.0  42138.0  43923.0  38924.0  40431.0\n",
       "8   44278.0  46153.0  43217.0  39547.0  42370.0  37970.0  39472.0\n",
       "9   45640.0  43798.0  41674.0  38920.0  38304.0  39312.0  37937.0\n",
       "10  43426.0  44272.0  40654.0  37224.0  39203.0  36989.0  39824.0\n",
       "11  42985.0  41287.0  38672.0  38074.0  37984.0  39324.0  40206.0\n",
       "12  42985.0  41287.0  38672.0  38074.0  37984.0  39324.0  40206.0\n",
       "13  42985.0  41287.0  38672.0  38074.0  37984.0  39324.0  40206.0\n",
       "14  42985.0  41287.0  38672.0  38074.0  37984.0  39324.0  40206.0"
      ]
     },
     "execution_count": 103,
     "metadata": {},
     "output_type": "execute_result"
    }
   ],
   "source": [
    "pd.DataFrame(predicted_vlaues_)"
   ]
  },
  {
   "cell_type": "code",
   "execution_count": 104,
   "id": "3c23fd3c-7122-43ae-b010-53811007dbff",
   "metadata": {},
   "outputs": [
    {
     "data": {
      "text/plain": [
       "0    42442.0\n",
       "1    39824.0\n",
       "2    41684.0\n",
       "3    40437.0\n",
       "4    42716.0\n",
       "5    37535.0\n",
       "6    41579.0\n",
       "Name: 0, dtype: float64"
      ]
     },
     "execution_count": 104,
     "metadata": {},
     "output_type": "execute_result"
    }
   ],
   "source": [
    "pd.DataFrame(predicted_vlaues_)[0:1][:7].squeeze()"
   ]
  },
  {
   "cell_type": "code",
   "execution_count": 105,
   "id": "b0c5e597-c405-4529-9308-4a8fa9e531c9",
   "metadata": {},
   "outputs": [
    {
     "data": {
      "text/plain": [
       "0    41756.0\n",
       "1    40501.0\n",
       "2    40099.0\n",
       "3    42128.0\n",
       "4    40279.0\n",
       "5    39051.0\n",
       "6    42938.0\n",
       "Name: 0, dtype: float64"
      ]
     },
     "execution_count": 105,
     "metadata": {},
     "output_type": "execute_result"
    }
   ],
   "source": [
    "pd.DataFrame(actual_values_)[0:1][:7].squeeze()"
   ]
  },
  {
   "cell_type": "code",
   "execution_count": 106,
   "id": "b2efa4ac-af0e-4748-bafe-d9c0523aa7af",
   "metadata": {},
   "outputs": [
    {
     "data": {
      "image/png": "[encoded data removed]",
      "text/plain": [
       "<Figure size 432x288 with 1 Axes>"
      ]
     },
     "metadata": {
      "needs_background": "light"
     },
     "output_type": "display_data"
    }
   ],
   "source": [
    "a_0=pd.DataFrame(actual_values_)[0:1][:7].squeeze()\n",
    "p_0=pd.DataFrame(predicted_vlaues_)[0:1][:7].squeeze()\n",
    "df_0=pd.concat([a_0,p_0], axis=1)\n",
    "df_0.plot()\n",
    "plt.title(\"Pandas의 Plot메소드 사용 예\")\n",
    "plt.xlabel(\"시간\")\n",
    "plt.ylabel(\"Data\")\n",
    "plt.show()"
   ]
  },
  {
   "cell_type": "code",
   "execution_count": 107,
   "id": "b8b6b690-1995-4767-86b8-590701811154",
   "metadata": {},
   "outputs": [
    {
     "data": {
      "image/png": "[encoded data removed]",
      "text/plain": [
       "<Figure size 432x288 with 1 Axes>"
      ]
     },
     "metadata": {
      "needs_background": "light"
     },
     "output_type": "display_data"
    }
   ],
   "source": [
    "a_0=pd.DataFrame(actual_values_)[1:2][:7].squeeze()\n",
    "p_0=pd.DataFrame(predicted_vlaues_)[1:2][:7].squeeze()\n",
    "df_0=pd.concat([a_0,p_0], axis=1)\n",
    "df_0.plot()\n",
    "plt.title(\"Pandas의 Plot메소드 사용 예\")\n",
    "plt.xlabel(\"시간\")\n",
    "plt.ylabel(\"Data\")\n",
    "plt.show()"
   ]
  },
  {
   "cell_type": "code",
   "execution_count": 108,
   "id": "7c6c2114-42b4-419b-bf15-ab4a04b5e26a",
   "metadata": {},
   "outputs": [
    {
     "data": {
      "image/png": "[encoded data removed]",
      "text/plain": [
       "<Figure size 432x288 with 1 Axes>"
      ]
     },
     "metadata": {
      "needs_background": "light"
     },
     "output_type": "display_data"
    }
   ],
   "source": [
    "a_0=pd.DataFrame(actual_values_)[2:3][:7].squeeze()\n",
    "p_0=pd.DataFrame(predicted_vlaues_)[2:3][:7].squeeze()\n",
    "df_0=pd.concat([a_0,p_0], axis=1)\n",
    "df_0.plot()\n",
    "plt.title(\"Pandas의 Plot메소드 사용 예\")\n",
    "plt.xlabel(\"시간\")\n",
    "plt.ylabel(\"Data\")\n",
    "plt.show()"
   ]
  },
  {
   "cell_type": "code",
   "execution_count": 109,
   "id": "1ca743aa-8f3a-43d5-9d6b-f1df1f2e8d90",
   "metadata": {},
   "outputs": [
    {
     "data": {
      "image/png": "[encoded data removed]",
      "text/plain": [
       "<Figure size 432x288 with 1 Axes>"
      ]
     },
     "metadata": {
      "needs_background": "light"
     },
     "output_type": "display_data"
    }
   ],
   "source": [
    "a_0=pd.DataFrame(actual_values_)[3:4][:7].squeeze()\n",
    "p_0=pd.DataFrame(predicted_vlaues_)[3:4][:7].squeeze()\n",
    "df_0=pd.concat([a_0,p_0], axis=1)\n",
    "df_0.plot()\n",
    "plt.title(\"Pandas의 Plot메소드 사용 예\")\n",
    "plt.xlabel(\"시간\")\n",
    "plt.ylabel(\"Data\")\n",
    "plt.show()"
   ]
  },
  {
   "cell_type": "code",
   "execution_count": 110,
   "id": "83160705-1b80-463c-9924-dc22ae1cd5a7",
   "metadata": {},
   "outputs": [
    {
     "data": {
      "image/png": "[encoded data removed]",
      "text/plain": [
       "<Figure size 432x288 with 1 Axes>"
      ]
     },
     "metadata": {
      "needs_background": "light"
     },
     "output_type": "display_data"
    }
   ],
   "source": [
    "a_0=pd.DataFrame(actual_values_)[4:5][:7].squeeze()\n",
    "p_0=pd.DataFrame(predicted_vlaues_)[4:5][:7].squeeze()\n",
    "df_0=pd.concat([a_0,p_0], axis=1)\n",
    "df_0.plot()\n",
    "plt.title(\"Pandas의 Plot메소드 사용 예\")\n",
    "plt.xlabel(\"시간\")\n",
    "plt.ylabel(\"Data\")\n",
    "plt.show()"
   ]
  },
  {
   "cell_type": "code",
   "execution_count": 111,
   "id": "9b181941-5a3c-402b-8573-85976d8ffdba",
   "metadata": {},
   "outputs": [
    {
     "data": {
      "image/png": "[encoded data removed]",
      "text/plain": [
       "<Figure size 432x288 with 1 Axes>"
      ]
     },
     "metadata": {
      "needs_background": "light"
     },
     "output_type": "display_data"
    }
   ],
   "source": [
    "a_0=pd.DataFrame(actual_values_)[5:6][:7].squeeze()\n",
    "p_0=pd.DataFrame(predicted_vlaues_)[5:6][:7].squeeze()\n",
    "df_0=pd.concat([a_0,p_0], axis=1)\n",
    "df_0.plot()\n",
    "plt.title(\"Pandas의 Plot메소드 사용 예\")\n",
    "plt.xlabel(\"시간\")\n",
    "plt.ylabel(\"Data\")\n",
    "plt.show()"
   ]
  },
  {
   "cell_type": "code",
   "execution_count": 112,
   "id": "29cb815b-927a-4959-a2a4-65813e9c4545",
   "metadata": {},
   "outputs": [
    {
     "data": {
      "text/plain": [
       "Text(0, 0.5, 'Data')"
      ]
     },
     "execution_count": 112,
     "metadata": {},
     "output_type": "execute_result"
    },
    {
     "data": {
      "image/png": "[encoded data removed]",
      "text/plain": [
       "<Figure size 432x288 with 1 Axes>"
      ]
     },
     "metadata": {
      "needs_background": "light"
     },
     "output_type": "display_data"
    }
   ],
   "source": [
    "a_0=pd.DataFrame(actual_values_)[6:7][:7].squeeze()\n",
    "p_0=pd.DataFrame(predicted_vlaues_)[6:7][:7].squeeze()\n",
    "df_0=pd.concat([a_0,p_0], axis=1)\n",
    "df_0.plot()\n",
    "plt.title(\"Pandas의 Plot메소드 사용 예\")\n",
    "plt.xlabel(\"시간\")\n",
    "plt.ylabel(\"Data\")"
   ]
  },
  {
   "cell_type": "code",
   "execution_count": 113,
   "id": "1c4a7b20-9138-4671-ad94-81bbf86df725",
   "metadata": {},
   "outputs": [
    {
     "data": {
      "text/plain": [
       "Text(0, 0.5, 'Data')"
      ]
     },
     "execution_count": 113,
     "metadata": {},
     "output_type": "execute_result"
    },
    {
     "data": {
      "image/png": "[encoded data removed]",
      "text/plain": [
       "<Figure size 432x288 with 1 Axes>"
      ]
     },
     "metadata": {
      "needs_background": "light"
     },
     "output_type": "display_data"
    }
   ],
   "source": [
    "a_0=pd.DataFrame(actual_values_)[7:8][:7].squeeze()\n",
    "p_0=pd.DataFrame(predicted_vlaues_)[7:8][:7].squeeze()\n",
    "df_0=pd.concat([a_0,p_0], axis=1)\n",
    "df_0.plot()\n",
    "plt.title(\"Pandas의 Plot메소드 사용 예\")\n",
    "plt.xlabel(\"시간\")\n",
    "plt.ylabel(\"Data\")"
   ]
  },
  {
   "cell_type": "code",
   "execution_count": 114,
   "id": "492ff793-92ee-42a3-b460-3ce0b19b768e",
   "metadata": {},
   "outputs": [
    {
     "data": {
      "text/plain": [
       "Text(0, 0.5, 'Data')"
      ]
     },
     "execution_count": 114,
     "metadata": {},
     "output_type": "execute_result"
    },
    {
     "data": {
      "image/png": "[encoded data removed]",
      "text/plain": [
       "<Figure size 432x288 with 1 Axes>"
      ]
     },
     "metadata": {
      "needs_background": "light"
     },
     "output_type": "display_data"
    }
   ],
   "source": [
    "a_0=pd.DataFrame(actual_values_)[8:9][:7].squeeze()\n",
    "p_0=pd.DataFrame(predicted_vlaues_)[8:9][:7].squeeze()\n",
    "df_0=pd.concat([a_0,p_0], axis=1)\n",
    "df_0.plot()\n",
    "plt.title(\"Pandas의 Plot메소드 사용 예\")\n",
    "plt.xlabel(\"시간\")\n",
    "plt.ylabel(\"Data\")"
   ]
  },
  {
   "cell_type": "code",
   "execution_count": 115,
   "id": "11989a00-40eb-4c48-8d06-54e4081a7220",
   "metadata": {},
   "outputs": [
    {
     "data": {
      "text/plain": [
       "Text(0, 0.5, 'Data')"
      ]
     },
     "execution_count": 115,
     "metadata": {},
     "output_type": "execute_result"
    },
    {
     "data": {
      "image/png": "[encoded data removed]",
      "text/plain": [
       "<Figure size 432x288 with 1 Axes>"
      ]
     },
     "metadata": {
      "needs_background": "light"
     },
     "output_type": "display_data"
    }
   ],
   "source": [
    "a_0=pd.DataFrame(actual_values_)[9:10][:7].squeeze()\n",
    "p_0=pd.DataFrame(predicted_vlaues_)[9:10][:7].squeeze()\n",
    "df_0=pd.concat([a_0,p_0], axis=1)\n",
    "df_0.plot()\n",
    "plt.title(\"Pandas의 Plot메소드 사용 예\")\n",
    "plt.xlabel(\"시간\")\n",
    "plt.ylabel(\"Data\")"
   ]
  },
  {
   "cell_type": "code",
   "execution_count": 116,
   "id": "b57e342c-7393-4a0b-9e3c-00c9e902e9f6",
   "metadata": {},
   "outputs": [
    {
     "data": {
      "text/plain": [
       "Text(0, 0.5, 'Data')"
      ]
     },
     "execution_count": 116,
     "metadata": {},
     "output_type": "execute_result"
    },
    {
     "data": {
      "image/png": "[encoded data removed]",
      "text/plain": [
       "<Figure size 432x288 with 1 Axes>"
      ]
     },
     "metadata": {
      "needs_background": "light"
     },
     "output_type": "display_data"
    }
   ],
   "source": [
    "a_0=pd.DataFrame(actual_values_)[10:11][:7].squeeze()\n",
    "p_0=pd.DataFrame(predicted_vlaues_)[10:11][:7].squeeze()\n",
    "df_0=pd.concat([a_0,p_0], axis=1)\n",
    "df_0.plot()\n",
    "plt.title(\"Pandas의 Plot메소드 사용 예\")\n",
    "plt.xlabel(\"시간\")\n",
    "plt.ylabel(\"Data\")"
   ]
  },
  {
   "cell_type": "code",
   "execution_count": 117,
   "id": "db83a2c9-fee8-4803-a48d-c705f2d1810e",
   "metadata": {},
   "outputs": [
    {
     "data": {
      "text/plain": [
       "Text(0, 0.5, 'Data')"
      ]
     },
     "execution_count": 117,
     "metadata": {},
     "output_type": "execute_result"
    },
    {
     "data": {
      "image/png": "[encoded data removed]",
      "text/plain": [
       "<Figure size 432x288 with 1 Axes>"
      ]
     },
     "metadata": {
      "needs_background": "light"
     },
     "output_type": "display_data"
    }
   ],
   "source": [
    "a_0=pd.DataFrame(actual_values_)[11:12][:7].squeeze()\n",
    "p_0=pd.DataFrame(predicted_vlaues_)[11:12][:7].squeeze()\n",
    "df_0=pd.concat([a_0,p_0], axis=1)\n",
    "df_0.plot()\n",
    "plt.title(\"Pandas의 Plot메소드 사용 예\")\n",
    "plt.xlabel(\"시간\")\n",
    "plt.ylabel(\"Data\")"
   ]
  },
  {
   "cell_type": "code",
   "execution_count": 118,
   "id": "a754717f-9a4f-4685-a650-afb3bd11109e",
   "metadata": {},
   "outputs": [
    {
     "data": {
      "text/plain": [
       "Text(0, 0.5, 'Data')"
      ]
     },
     "execution_count": 118,
     "metadata": {},
     "output_type": "execute_result"
    },
    {
     "data": {
      "image/png": "[encoded data removed]",
      "text/plain": [
       "<Figure size 432x288 with 1 Axes>"
      ]
     },
     "metadata": {
      "needs_background": "light"
     },
     "output_type": "display_data"
    }
   ],
   "source": [
    "a_0=pd.DataFrame(actual_values_)[12:13][:7].squeeze()\n",
    "p_0=pd.DataFrame(predicted_vlaues_)[12:13][:7].squeeze()\n",
    "df_0=pd.concat([a_0,p_0], axis=1)\n",
    "df_0.plot()\n",
    "plt.title(\"Pandas의 Plot메소드 사용 예\")\n",
    "plt.xlabel(\"시간\")\n",
    "plt.ylabel(\"Data\")"
   ]
  },
  {
   "cell_type": "code",
   "execution_count": null,
   "id": "f90dbb00-2761-4186-be16-2b30cb286c56",
   "metadata": {},
   "outputs": [],
   "source": []
  },
  {
   "cell_type": "code",
   "execution_count": null,
   "id": "801b2ae1-22d2-45c1-a456-470a2030e15e",
   "metadata": {},
   "outputs": [],
   "source": []
  }
 ],
 "metadata": {
  "environment": {
   "kernel": "python3",
   "name": "tf2-gpu.2-6.m95",
   "type": "gcloud",
   "uri": "gcr.io/deeplearning-platform-release/tf2-gpu.2-6:m95"
  },
  "kernelspec": {
   "display_name": "Python 3",
   "language": "python",
   "name": "python3"
  },
  "language_info": {
   "codemirror_mode": {
    "name": "ipython",
    "version": 3
   },
   "file_extension": ".py",
   "mimetype": "text/x-python",
   "name": "python",
   "nbconvert_exporter": "python",
   "pygments_lexer": "ipython3",
   "version": "3.7.12"
  }
 },
 "nbformat": 4,
 "nbformat_minor": 5
}
