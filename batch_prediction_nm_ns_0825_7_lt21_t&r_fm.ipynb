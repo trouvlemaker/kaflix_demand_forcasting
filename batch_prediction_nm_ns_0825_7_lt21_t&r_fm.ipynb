{
 "cells": [
  {
   "cell_type": "code",
   "execution_count": 200,
   "id": "058fd739-a1bb-4915-9abc-152269bee1a0",
   "metadata": {},
   "outputs": [],
   "source": [
    " # - Network 256 512 512 96\n",
    " # - EPOCHS = 170\n",
    " # - BATCH_SIZE = 8\n",
    " # - LEARNING_RATE = 0.001\n",
    " # - DROPOUT = 0.06"
   ]
  },
  {
   "cell_type": "code",
   "execution_count": 201,
   "id": "ac2059af-f65d-46b5-99b9-d3de8d57702f",
   "metadata": {},
   "outputs": [],
   "source": [
    "import pandas as pd\n",
    "import pickle\n",
    "from google.cloud import storage\n",
    "from google.cloud import bigquery\n",
    "from google.cloud import aiplatform\n",
    "from google.cloud import aiplatform_v1beta1\n",
    "from google.protobuf import json_format\n",
    "from google.protobuf.struct_pb2 import Value\n",
    "import matplotlib.pyplot as plt "
   ]
  },
  {
   "cell_type": "code",
   "execution_count": 202,
   "id": "20feac29-3915-40e9-86dc-f68063f7a590",
   "metadata": {},
   "outputs": [],
   "source": [
    "aiplatform.init(location='asia-northeast3')"
   ]
  },
  {
   "cell_type": "code",
   "execution_count": 203,
   "id": "721b1eea-6e73-4953-ba46-d0b5a14caffe",
   "metadata": {},
   "outputs": [],
   "source": [
    "def download_blob(bucket_name, source_blob_name, destination_file_name):\n",
    "    storage_client = storage.Client()\n",
    "    bucket = storage_client.get_bucket(bucket_name)\n",
    "    blob = bucket.blob(source_blob_name)\n",
    "    blob.download_to_filename(destination_file_name)\n"
   ]
  },
  {
   "cell_type": "code",
   "execution_count": 204,
   "id": "3768ac0c-74c4-48d6-b72e-5d6242f3c4e5",
   "metadata": {},
   "outputs": [],
   "source": [
    "download_blob(\"mlops-test-kay\", \"airport_passenger/X_val_multi_scaled_nm_ns_7_lt21_tr_fm.pkl\", \"X_val_multi_scaled_nm_ns_7_lt21_tr_fm.pkl\")"
   ]
  },
  {
   "cell_type": "code",
   "execution_count": 205,
   "id": "0c745ad9-36dc-47e9-940e-b3d05a18d60e",
   "metadata": {},
   "outputs": [],
   "source": [
    "with open('X_val_multi_scaled_nm_ns_7_lt21_tr_fm.pkl','rb') as f:\n",
    "    X_val_multi_scaled = pickle.load(f)"
   ]
  },
  {
   "cell_type": "code",
   "execution_count": 206,
   "id": "63e6a2a9-c909-49c8-a43d-4d1d8a24b5d7",
   "metadata": {
    "tags": []
   },
   "outputs": [],
   "source": [
    "X_val_multi_scaled_list=X_val_multi_scaled.tolist()"
   ]
  },
  {
   "cell_type": "code",
   "execution_count": 207,
   "id": "0a1ed709-1c03-4295-8cf6-b64038157201",
   "metadata": {
    "tags": []
   },
   "outputs": [
    {
     "name": "stdout",
     "output_type": "stream",
     "text": [
      "Prediction(predictions=[[0.778346837, 0.668806255, 0.704734266, 0.800670385, 0.667222619, 0.851956129, 0.774886608], [0.708459139, 0.703268528, 0.745127618, 0.748522043, 0.855379343, 0.690390468, 0.80894649], [0.744470596, 0.812962, 0.66747725, 0.829734325, 0.784788, 0.662097335, 0.738003969], [0.81129241, 0.695138097, 0.794436038, 0.814004898, 0.675378382, 0.682535768, 0.721988678], [0.675900638, 0.799737096, 0.760173678, 0.750034809, 0.68997407, 0.583176792, 0.752378345], [0.864033878, 0.759924054, 0.599974394, 0.700170636, 0.575061321, 0.732531786, 0.62405467], [0.838658333, 0.651087046, 0.631827235, 0.685669184, 0.60227555, 0.722188354, 0.723233223], [0.752007961, 0.642568946, 0.675904334, 0.652232766, 0.737346709, 0.653468728, 0.736520827], [0.693556309, 0.675063133, 0.640951753, 0.730981171, 0.713855624, 0.615047216, 0.660384536], [0.715365529, 0.678478837, 0.683030248, 0.778874516, 0.61092484, 0.654301763, 0.657923818], [0.651142836, 0.667450488, 0.813416958, 0.666375756, 0.587226331, 0.707887113, 0.710916162], [0.630907834, 0.780687, 0.549495518, 0.706720233, 0.594636679, 0.729034424, 0.731910706], [0.861473799, 0.58567667, 0.58570075, 0.747737169, 0.630402386, 0.795243621, 0.735256433], [0.525315225, 0.650544286, 0.65277946, 0.782216966, 0.707729459, 0.740312457, 0.737150192], [0.617199302, 0.667460561, 0.697937131, 0.737878621, 0.762464702, 0.698833942, 0.628370643]], deployed_model_id='5223999645889331200', model_version_id='1', model_resource_name='projects/392016637758/locations/asia-northeast3/models/2558906605462618112', explanations=None)\n"
     ]
    }
   ],
   "source": [
    "aiplatform.init(project='charged-genre-350106', location='asia-northeast3')\n",
    "\n",
    "endpoint = aiplatform.Endpoint('5309286563832659968')\n",
    "\n",
    "prediction = endpoint.predict(instances=X_val_multi_scaled_list)\n",
    "print(prediction)"
   ]
  },
  {
   "cell_type": "markdown",
   "id": "9a5998a3-d770-4e3a-95bc-f89b9041a124",
   "metadata": {
    "tags": []
   },
   "source": [
    "## Inverse scaling을 위해 빅쿼리에 있는 tr, ts데이터로 scaling, inverse sclaing"
   ]
  },
  {
   "cell_type": "code",
   "execution_count": 208,
   "id": "1fd7f51f-5c93-4d92-88a4-aea085b855e0",
   "metadata": {},
   "outputs": [
    {
     "name": "stdout",
     "output_type": "stream",
     "text": [
      "X: (183, 420) Y: (183, 1)\n",
      "X: (21, 420) Y: (21, 1)\n",
      "X_train_scaled: (183, 420) Y_train_gru: (183, 1)\n",
      "X_val_scaled: (21, 420) Y_val_gru: (21, 1)\n"
     ]
    }
   ],
   "source": [
    "# Ignore the warnings\n",
    "import warnings\n",
    "warnings.filterwarnings('always')\n",
    "warnings.filterwarnings('ignore')\n",
    "\n",
    "# Data manipulation, visualization and useful functions\n",
    "import argparse\n",
    "import os\n",
    "import pandas as pd\n",
    "import numpy as np\n",
    "from sklearn import preprocessing\n",
    "\n",
    "# gcp functions\n",
    "from google.cloud import bigquery\n",
    "from google.cloud import storage\n",
    "import time\n",
    "from datetime import datetime, timedelta\n",
    "import pickle\n",
    "\n",
    "n_steps=7\n",
    "\n",
    "# Set up BigQuery & Storage clients\n",
    "bqclient = bigquery.Client(project='charged-genre-350106')\n",
    "storage_client = storage.Client(project='charged-genre-350106')\n",
    "\n",
    "# Query for base dataset\n",
    "query_tr = \"\"\"\n",
    "    SELECT *\n",
    "    FROM `charged-genre-350106.demand_forecasting.airport_passenger_tr_nm_ns_7_lt21_tr`\n",
    "    \"\"\"\n",
    "\n",
    "query_vd = \"\"\"\n",
    "    SELECT *\n",
    "    FROM `charged-genre-350106.demand_forecasting.airport_passenger_ts_nm_ns_7_lt21_tr`\n",
    "    \"\"\"\n",
    "\n",
    "trds = bqclient.query(query_tr).to_dataframe()\n",
    "tsds = bqclient.query(query_vd).to_dataframe()\n",
    "trds=trds.sort_values(by='datetime')\n",
    "tsds=tsds.sort_values(by='datetime')\n",
    "\n",
    "def datasplit_X_Y(data, Y_colname, X_colname):\n",
    "    X_colname = [x for x in data.columns if x not in Y_colname + X_remove]\n",
    "    Y_data = data[Y_colname]\n",
    "    X_data = data[X_colname]\n",
    "    print('X:', X_data.shape, 'Y:', Y_data.shape)\n",
    "    return X_data, Y_data\n",
    "\n",
    "# Data Split to X and Y\n",
    "Y_colname = ['count']\n",
    "X_remove = ['datetime', 'data_split']\n",
    "X_colname = [x for x in trds.columns if x not in Y_colname]# + X_remove]\n",
    "X_train, Y_train = datasplit_X_Y(trds, Y_colname, X_colname)\n",
    "X_val, Y_val = datasplit_X_Y(tsds, Y_colname, X_colname)\n",
    "\n",
    "continous_feature=[\n",
    "'ticket_1', 'ticket_2', 'ticket_3','ticket_4','ticket_5','ticket_6','ticket_7',\n",
    "                    'ticket_8', 'ticket_9', 'ticket_10','ticket_11','ticket_12','ticket_13','ticket_14',\n",
    "                    'ticket_15','ticket_16', 'ticket_17','ticket_18','ticket_19','ticket_20','ticket_21',\n",
    "                    'fare_min_1','fare_min_2','fare_min_3','fare_min_4','fare_min_5','fare_min_6','fare_min_7',\n",
    "                    'fare_min_8','fare_min_9','fare_min_10','fare_min_11','fare_min_12','fare_min_13','fare_min_14',\n",
    "                    'fare_min_15','fare_min_16','fare_min_17','fare_min_18','fare_min_19','fare_min_20','fare_min_21', \n",
    "                    'fare_max_1','fare_max_2','fare_max_3','fare_max_4','fare_max_5','fare_max_6','fare_max_7',\n",
    "                    'fare_max_8','fare_max_9','fare_max_10','fare_max_11','fare_max_12','fare_max_13','fare_max_14',\n",
    "                    'fare_max_15','fare_max_16','fare_max_17','fare_max_18','fare_max_19','fare_max_20','fare_max_21',\n",
    "                    'fare_avg_1','fare_avg_2','fare_avg_3','fare_avg_4','fare_avg_5','fare_avg_6','fare_avg_7',\n",
    "                    'fare_avg_8','fare_avg_9','fare_avg_10','fare_avg_11','fare_avg_12','fare_avg_13','fare_avg_14',\n",
    "                    'fare_avg_15','fare_avg_16','fare_avg_17','fare_avg_18','fare_avg_19','fare_avg_20','fare_avg_21',\n",
    "                    'fare_std_1','fare_std_2','fare_std_3','fare_std_4','fare_std_5','fare_std_6','fare_std_7',\n",
    "                    'fare_std_8','fare_std_9','fare_std_10','fare_std_11','fare_std_12','fare_std_13','fare_std_14',\n",
    "                    'fare_std_15','fare_std_16','fare_std_17','fare_std_18','fare_std_19','fare_std_20','fare_std_21',\n",
    "                    'seat_min_1','seat_min_2','seat_min_3','seat_min_4','seat_min_5','seat_min_6','seat_min_7',\n",
    "                    'seat_min_8','seat_min_9','seat_min_10','seat_min_11','seat_min_12','seat_min_13','seat_min_14',\n",
    "                    'seat_min_15','seat_min_16','seat_min_17','seat_min_18','seat_min_19','seat_min_20','seat_min_21',\n",
    "                    'seat_max_1','seat_max_2','seat_max_3','seat_max_4','seat_max_5','seat_max_6','seat_max_7',\n",
    "                    'seat_max_8','seat_max_9','seat_max_10','seat_max_11','seat_max_12','seat_max_13','seat_max_14',\n",
    "                    'seat_max_15','seat_max_16','seat_max_17','seat_max_18','seat_max_19','seat_max_20','seat_max_21',\n",
    "                    'seat_avg_1','seat_avg_2','seat_avg_3','seat_avg_4','seat_avg_5','seat_avg_6','seat_avg_7',\n",
    "                    'seat_avg_8','seat_avg_9','seat_avg_10','seat_avg_11','seat_avg_12','seat_avg_13','seat_avg_14',\n",
    "                    'seat_avg_15','seat_avg_16','seat_avg_17','seat_avg_18','seat_avg_19','seat_avg_20','seat_avg_21',\n",
    "                    'seat_std_1','seat_std_2','seat_std_3','seat_std_4','seat_std_5','seat_std_6','seat_std_7',\n",
    "                    'seat_std_8','seat_std_9','seat_std_10','seat_std_11','seat_std_12','seat_std_13','seat_std_14',\n",
    "                    'seat_std_15','seat_std_16','seat_std_17','seat_std_18','seat_std_19','seat_std_20','seat_std_21',\n",
    "                    'b_1','b_2','b_3','b_4','b_5','b_6','b_7','b_8','b_9','b_10','b_11','b_12','b_13','b_14','b_15','b_16','b_17','b_18','b_19','b_20','b_21',\n",
    "                    'f_1','f_2','f_3','f_4','f_5','f_6','f_7','f_8','f_9','f_10','f_11','f_12','f_13','f_14','f_15','f_16','f_17','f_18','f_19','f_20','f_21',\n",
    "                    'd_1','d_2','d_3','d_4','d_5','d_6','d_7','d_8','d_9','d_10','d_11','d_12','d_13','d_14','d_15','d_16','d_17','d_18','d_19','d_20','d_21',\n",
    "                    's_1','s_2','s_3','s_4','s_5','s_6','s_7','s_8','s_9','s_10','s_11','s_12','s_13','s_14','s_15','s_16','s_17','s_18','s_19','s_20','s_21',\n",
    "                    'sd_1','sd_2','sd_3','sd_4','sd_5','sd_6','sd_7','sd_8','sd_9','sd_10','sd_11','sd_12','sd_13','sd_14','sd_15','sd_16','sd_17','sd_18','sd_19','sd_20','sd_21',\n",
    "                      'lt_1',   'lt_2',   'lt_3',   'lt_4',   'lt_5',   'lt_6' , 'lt_7', \n",
    "                      'lt_8',   'lt_9',   'lt_10',  'lt_11',  'lt_12',  'lt_13', 'lt_14',\n",
    "                      'lt_15',   'lt_16',   'lt_17',  'lt_18',  'lt_19',  'lt_20', 'lt_21',\n",
    "                      'f330_1',   'f330_2',   'f330_3',   'f330_4',   'f330_5',   'f330_6' , 'f330_7',  \n",
    "                      'f330_8',   'f330_9',   'f330_10',  'f330_11',  'f330_12',  'f330_13', 'f330_14',\n",
    "                      'f330_15',  'f330_16',  'f330_17',  'f330_18',  'f330_19',  'f330_20', 'f330_21',\n",
    "                      'f737_1',   'f737_2',   'f737_3',   'f737_4',   'f737_5',   'f737_6' , 'f737_7',  \n",
    "                      'f737_8',   'f737_9',   'f737_10',  'f737_11',  'f737_12',  'f737_13', 'f737_14',\n",
    "                      'f737_15',  'f737_16',  'f737_17',  'f737_18',  'f737_19',  'f737_20', 'f737_21',\n",
    "                      'group_1',   'group_2',   'group_3',   'group_4',   'group_5',   'group_6' , 'group_7',  \n",
    "                      'group_8',   'group_9',   'group_10',  'group_11',  'group_12',  'group_13', 'group_14',\n",
    "                      'group_15',   'group_16',   'group_17',  'group_18',  'group_19',  'group_20', 'group_21',\n",
    "                      'total_1',   'total_2',   'total_3',   'total_4',   'total_5',   'total_6' , 'total_7',  \n",
    "                      'total_8',   'total_9',   'total_10',  'total_11',  'total_12',  'total_13', 'total_14',\n",
    "                      'total_15',   'total_16',   'total_17',  'total_18',  'total_19',  'total_20', 'total_21',\n",
    "                      'count_lag7','count_lag8','count_lag9','count_lag10','count_lag11','count_lag12','count_lag13'\n",
    "]\n",
    "\n",
    "category_feature=[\n",
    "'holiday', 'long_h', 'b_long_h', 'inter_h', 'b_inter_h','first_m','b_first_m',\n",
    "'dayofweek_dummy_0','dayofweek_dummy_1','dayofweek_dummy_2','dayofweek_dummy_3','dayofweek_dummy_4','dayofweek_dummy_5','dayofweek_dummy_6']\n",
    "\n",
    "scaler_X_tr = preprocessing.MinMaxScaler()\n",
    "scaler_Y_tr = preprocessing.MinMaxScaler()\n",
    "\n",
    "def scaling(x_train, y_train, x_val, y_val, scaler_X_tr=scaler_X_tr,scaler_Y_tr=scaler_Y_tr):\n",
    "    \n",
    "    ## Scaling\n",
    "    X_train_con = scaler_X_tr.fit_transform(x_train[continous_feature])\n",
    "    X_train_cat = x_train[category_feature].to_numpy()\n",
    "    X_train_scaled = np.concatenate((X_train_con, X_train_cat), axis=1)\n",
    "    Y_train_scaled = scaler_Y_tr.fit_transform(y_train)\n",
    "\n",
    "    X_val_con = scaler_X_tr.transform(x_val[continous_feature])\n",
    "    X_val_cat = x_val[category_feature].to_numpy()\n",
    "    X_val_scaled = np.concatenate((X_val_con, X_val_cat), axis=1)\n",
    "    Y_val_scaled = scaler_Y_tr.transform(y_val)\n",
    "    \n",
    "    print('X_train_scaled:', X_train_scaled.shape, 'Y_train_gru:', Y_train_scaled.shape)\n",
    "    print('X_val_scaled:', X_val_scaled.shape, 'Y_val_gru:', Y_val_scaled.shape)\n",
    "    \n",
    "    return X_train_scaled, Y_train_scaled, X_val_scaled, Y_val_scaled\n",
    "\n",
    "def inverse_scaling(data, scaler_Y_tr=scaler_Y_tr):\n",
    "    data_scaled = np.empty([data.shape[1], data.shape[0]])\n",
    "    for i in range(data.shape[1]):\n",
    "        data_scaled[i] = scaler_Y_tr.inverse_transform([data[:,i]])\n",
    "    return data_scaled.transpose()\n",
    "\n",
    "X_train_scaled, Y_train_scaled, X_val_scaled, Y_val_scaled = scaling(X_train, Y_train, X_val, Y_val)"
   ]
  },
  {
   "cell_type": "code",
   "execution_count": 209,
   "id": "1f3a0633-7cbc-47a9-a371-995f346d3ffa",
   "metadata": {},
   "outputs": [
    {
     "data": {
      "text/plain": [
       "['holiday',\n",
       " 'long_h',\n",
       " 'b_long_h',\n",
       " 'inter_h',\n",
       " 'b_inter_h',\n",
       " 'first_m',\n",
       " 'b_first_m',\n",
       " 'ticket_1',\n",
       " 'ticket_2',\n",
       " 'ticket_3',\n",
       " 'ticket_4',\n",
       " 'ticket_5',\n",
       " 'ticket_6',\n",
       " 'ticket_7',\n",
       " 'ticket_8',\n",
       " 'ticket_9',\n",
       " 'ticket_10',\n",
       " 'ticket_11',\n",
       " 'ticket_12',\n",
       " 'ticket_13',\n",
       " 'ticket_14',\n",
       " 'ticket_15',\n",
       " 'ticket_16',\n",
       " 'ticket_17',\n",
       " 'ticket_18',\n",
       " 'ticket_19',\n",
       " 'ticket_20',\n",
       " 'ticket_21',\n",
       " 'fare_min_1',\n",
       " 'fare_min_2',\n",
       " 'fare_min_3',\n",
       " 'fare_min_4',\n",
       " 'fare_min_5',\n",
       " 'fare_min_6',\n",
       " 'fare_min_7',\n",
       " 'fare_min_8',\n",
       " 'fare_min_9',\n",
       " 'fare_min_10',\n",
       " 'fare_min_11',\n",
       " 'fare_min_12',\n",
       " 'fare_min_13',\n",
       " 'fare_min_14',\n",
       " 'fare_min_15',\n",
       " 'fare_min_16',\n",
       " 'fare_min_17',\n",
       " 'fare_min_18',\n",
       " 'fare_min_19',\n",
       " 'fare_min_20',\n",
       " 'fare_min_21',\n",
       " 'fare_max_1',\n",
       " 'fare_max_2',\n",
       " 'fare_max_3',\n",
       " 'fare_max_4',\n",
       " 'fare_max_5',\n",
       " 'fare_max_6',\n",
       " 'fare_max_7',\n",
       " 'fare_max_8',\n",
       " 'fare_max_9',\n",
       " 'fare_max_10',\n",
       " 'fare_max_11',\n",
       " 'fare_max_12',\n",
       " 'fare_max_13',\n",
       " 'fare_max_14',\n",
       " 'fare_max_15',\n",
       " 'fare_max_16',\n",
       " 'fare_max_17',\n",
       " 'fare_max_18',\n",
       " 'fare_max_19',\n",
       " 'fare_max_20',\n",
       " 'fare_max_21',\n",
       " 'fare_avg_1',\n",
       " 'fare_avg_2',\n",
       " 'fare_avg_3',\n",
       " 'fare_avg_4',\n",
       " 'fare_avg_5',\n",
       " 'fare_avg_6',\n",
       " 'fare_avg_7',\n",
       " 'fare_avg_8',\n",
       " 'fare_avg_9',\n",
       " 'fare_avg_10',\n",
       " 'fare_avg_11',\n",
       " 'fare_avg_12',\n",
       " 'fare_avg_13',\n",
       " 'fare_avg_14',\n",
       " 'fare_avg_15',\n",
       " 'fare_avg_16',\n",
       " 'fare_avg_17',\n",
       " 'fare_avg_18',\n",
       " 'fare_avg_19',\n",
       " 'fare_avg_20',\n",
       " 'fare_avg_21',\n",
       " 'fare_std_1',\n",
       " 'fare_std_2',\n",
       " 'fare_std_3',\n",
       " 'fare_std_4',\n",
       " 'fare_std_5',\n",
       " 'fare_std_6',\n",
       " 'fare_std_7',\n",
       " 'fare_std_8',\n",
       " 'fare_std_9',\n",
       " 'fare_std_10',\n",
       " 'fare_std_11',\n",
       " 'fare_std_12',\n",
       " 'fare_std_13',\n",
       " 'fare_std_14',\n",
       " 'fare_std_15',\n",
       " 'fare_std_16',\n",
       " 'fare_std_17',\n",
       " 'fare_std_18',\n",
       " 'fare_std_19',\n",
       " 'fare_std_20',\n",
       " 'fare_std_21',\n",
       " 'seat_min_1',\n",
       " 'seat_min_2',\n",
       " 'seat_min_3',\n",
       " 'seat_min_4',\n",
       " 'seat_min_5',\n",
       " 'seat_min_6',\n",
       " 'seat_min_7',\n",
       " 'seat_min_8',\n",
       " 'seat_min_9',\n",
       " 'seat_min_10',\n",
       " 'seat_min_11',\n",
       " 'seat_min_12',\n",
       " 'seat_min_13',\n",
       " 'seat_min_14',\n",
       " 'seat_min_15',\n",
       " 'seat_min_16',\n",
       " 'seat_min_17',\n",
       " 'seat_min_18',\n",
       " 'seat_min_19',\n",
       " 'seat_min_20',\n",
       " 'seat_min_21',\n",
       " 'seat_max_1',\n",
       " 'seat_max_2',\n",
       " 'seat_max_3',\n",
       " 'seat_max_4',\n",
       " 'seat_max_5',\n",
       " 'seat_max_6',\n",
       " 'seat_max_7',\n",
       " 'seat_max_8',\n",
       " 'seat_max_9',\n",
       " 'seat_max_10',\n",
       " 'seat_max_11',\n",
       " 'seat_max_12',\n",
       " 'seat_max_13',\n",
       " 'seat_max_14',\n",
       " 'seat_max_15',\n",
       " 'seat_max_16',\n",
       " 'seat_max_17',\n",
       " 'seat_max_18',\n",
       " 'seat_max_19',\n",
       " 'seat_max_20',\n",
       " 'seat_max_21',\n",
       " 'seat_avg_1',\n",
       " 'seat_avg_2',\n",
       " 'seat_avg_3',\n",
       " 'seat_avg_4',\n",
       " 'seat_avg_5',\n",
       " 'seat_avg_6',\n",
       " 'seat_avg_7',\n",
       " 'seat_avg_8',\n",
       " 'seat_avg_9',\n",
       " 'seat_avg_10',\n",
       " 'seat_avg_11',\n",
       " 'seat_avg_12',\n",
       " 'seat_avg_13',\n",
       " 'seat_avg_14',\n",
       " 'seat_avg_15',\n",
       " 'seat_avg_16',\n",
       " 'seat_avg_17',\n",
       " 'seat_avg_18',\n",
       " 'seat_avg_19',\n",
       " 'seat_avg_20',\n",
       " 'seat_avg_21',\n",
       " 'seat_std_1',\n",
       " 'seat_std_2',\n",
       " 'seat_std_3',\n",
       " 'seat_std_4',\n",
       " 'seat_std_5',\n",
       " 'seat_std_6',\n",
       " 'seat_std_7',\n",
       " 'seat_std_8',\n",
       " 'seat_std_9',\n",
       " 'seat_std_10',\n",
       " 'seat_std_11',\n",
       " 'seat_std_12',\n",
       " 'seat_std_13',\n",
       " 'seat_std_14',\n",
       " 'seat_std_15',\n",
       " 'seat_std_16',\n",
       " 'seat_std_17',\n",
       " 'seat_std_18',\n",
       " 'seat_std_19',\n",
       " 'seat_std_20',\n",
       " 'seat_std_21',\n",
       " 'b_1',\n",
       " 'b_2',\n",
       " 'b_3',\n",
       " 'b_4',\n",
       " 'b_5',\n",
       " 'b_6',\n",
       " 'b_7',\n",
       " 'b_8',\n",
       " 'b_9',\n",
       " 'b_10',\n",
       " 'b_11',\n",
       " 'b_12',\n",
       " 'b_13',\n",
       " 'b_14',\n",
       " 'b_15',\n",
       " 'b_16',\n",
       " 'b_17',\n",
       " 'b_18',\n",
       " 'b_19',\n",
       " 'b_20',\n",
       " 'b_21',\n",
       " 'f_1',\n",
       " 'f_2',\n",
       " 'f_3',\n",
       " 'f_4',\n",
       " 'f_5',\n",
       " 'f_6',\n",
       " 'f_7',\n",
       " 'f_8',\n",
       " 'f_9',\n",
       " 'f_10',\n",
       " 'f_11',\n",
       " 'f_12',\n",
       " 'f_13',\n",
       " 'f_14',\n",
       " 'f_15',\n",
       " 'f_16',\n",
       " 'f_17',\n",
       " 'f_18',\n",
       " 'f_19',\n",
       " 'f_20',\n",
       " 'f_21',\n",
       " 'd_1',\n",
       " 'd_2',\n",
       " 'd_3',\n",
       " 'd_4',\n",
       " 'd_5',\n",
       " 'd_6',\n",
       " 'd_7',\n",
       " 'd_8',\n",
       " 'd_9',\n",
       " 'd_10',\n",
       " 'd_11',\n",
       " 'd_12',\n",
       " 'd_13',\n",
       " 'd_14',\n",
       " 'd_15',\n",
       " 'd_16',\n",
       " 'd_17',\n",
       " 'd_18',\n",
       " 'd_19',\n",
       " 'd_20',\n",
       " 'd_21',\n",
       " 's_1',\n",
       " 's_2',\n",
       " 's_3',\n",
       " 's_4',\n",
       " 's_5',\n",
       " 's_6',\n",
       " 's_7',\n",
       " 's_8',\n",
       " 's_9',\n",
       " 's_10',\n",
       " 's_11',\n",
       " 's_12',\n",
       " 's_13',\n",
       " 's_14',\n",
       " 's_15',\n",
       " 's_16',\n",
       " 's_17',\n",
       " 's_18',\n",
       " 's_19',\n",
       " 's_20',\n",
       " 's_21',\n",
       " 'sd_1',\n",
       " 'sd_2',\n",
       " 'sd_3',\n",
       " 'sd_4',\n",
       " 'sd_5',\n",
       " 'sd_6',\n",
       " 'sd_7',\n",
       " 'sd_8',\n",
       " 'sd_9',\n",
       " 'sd_10',\n",
       " 'sd_11',\n",
       " 'sd_12',\n",
       " 'sd_13',\n",
       " 'sd_14',\n",
       " 'sd_15',\n",
       " 'sd_16',\n",
       " 'sd_17',\n",
       " 'sd_18',\n",
       " 'sd_19',\n",
       " 'sd_20',\n",
       " 'sd_21',\n",
       " 'lt_1',\n",
       " 'lt_2',\n",
       " 'lt_3',\n",
       " 'lt_4',\n",
       " 'lt_5',\n",
       " 'lt_6',\n",
       " 'lt_7',\n",
       " 'lt_8',\n",
       " 'lt_9',\n",
       " 'lt_10',\n",
       " 'lt_11',\n",
       " 'lt_12',\n",
       " 'lt_13',\n",
       " 'lt_14',\n",
       " 'lt_15',\n",
       " 'lt_16',\n",
       " 'lt_17',\n",
       " 'lt_18',\n",
       " 'lt_19',\n",
       " 'lt_20',\n",
       " 'lt_21',\n",
       " 'f330_1',\n",
       " 'f330_2',\n",
       " 'f330_3',\n",
       " 'f330_4',\n",
       " 'f330_5',\n",
       " 'f330_6',\n",
       " 'f330_7',\n",
       " 'f330_8',\n",
       " 'f330_9',\n",
       " 'f330_10',\n",
       " 'f330_11',\n",
       " 'f330_12',\n",
       " 'f330_13',\n",
       " 'f330_14',\n",
       " 'f330_15',\n",
       " 'f330_16',\n",
       " 'f330_17',\n",
       " 'f330_18',\n",
       " 'f330_19',\n",
       " 'f330_20',\n",
       " 'f330_21',\n",
       " 'f737_1',\n",
       " 'f737_2',\n",
       " 'f737_3',\n",
       " 'f737_4',\n",
       " 'f737_5',\n",
       " 'f737_6',\n",
       " 'f737_7',\n",
       " 'f737_8',\n",
       " 'f737_9',\n",
       " 'f737_10',\n",
       " 'f737_11',\n",
       " 'f737_12',\n",
       " 'f737_13',\n",
       " 'f737_14',\n",
       " 'f737_15',\n",
       " 'f737_16',\n",
       " 'f737_17',\n",
       " 'f737_18',\n",
       " 'f737_19',\n",
       " 'f737_20',\n",
       " 'f737_21',\n",
       " 'group_1',\n",
       " 'group_2',\n",
       " 'group_3',\n",
       " 'group_4',\n",
       " 'group_5',\n",
       " 'group_6',\n",
       " 'group_7',\n",
       " 'group_8',\n",
       " 'group_9',\n",
       " 'group_10',\n",
       " 'group_11',\n",
       " 'group_12',\n",
       " 'group_13',\n",
       " 'group_14',\n",
       " 'group_15',\n",
       " 'group_16',\n",
       " 'group_17',\n",
       " 'group_18',\n",
       " 'group_19',\n",
       " 'group_20',\n",
       " 'group_21',\n",
       " 'total_1',\n",
       " 'total_2',\n",
       " 'total_3',\n",
       " 'total_4',\n",
       " 'total_5',\n",
       " 'total_6',\n",
       " 'total_7',\n",
       " 'total_8',\n",
       " 'total_9',\n",
       " 'total_10',\n",
       " 'total_11',\n",
       " 'total_12',\n",
       " 'total_13',\n",
       " 'total_14',\n",
       " 'total_15',\n",
       " 'total_16',\n",
       " 'total_17',\n",
       " 'total_18',\n",
       " 'total_19',\n",
       " 'total_20',\n",
       " 'total_21',\n",
       " 'dayofweek_dummy_0',\n",
       " 'dayofweek_dummy_1',\n",
       " 'dayofweek_dummy_2',\n",
       " 'dayofweek_dummy_3',\n",
       " 'dayofweek_dummy_4',\n",
       " 'dayofweek_dummy_5',\n",
       " 'dayofweek_dummy_6',\n",
       " 'count_lag7',\n",
       " 'count_lag8',\n",
       " 'count_lag9',\n",
       " 'count_lag10',\n",
       " 'count_lag11',\n",
       " 'count_lag12',\n",
       " 'count_lag13']"
      ]
     },
     "execution_count": 209,
     "metadata": {},
     "output_type": "execute_result"
    }
   ],
   "source": [
    "list(X_train.columns)"
   ]
  },
  {
   "cell_type": "code",
   "execution_count": 210,
   "id": "7f1a28a1-81fd-4e5c-b83e-527de90d64bf",
   "metadata": {},
   "outputs": [
    {
     "data": {
      "text/plain": [
       "array([[0.01634696, 0.04024662, 0.07249712, ..., 0.        , 0.        ,\n",
       "        0.        ],\n",
       "       [0.02368641, 0.04692584, 0.10471807, ..., 0.        , 0.        ,\n",
       "        0.        ],\n",
       "       [0.13878232, 0.04761089, 0.11622555, ..., 1.        , 0.        ,\n",
       "        0.        ],\n",
       "       ...,\n",
       "       [0.06672227, 0.09761946, 0.46490219, ..., 0.        , 0.        ,\n",
       "        0.        ],\n",
       "       [0.06572143, 0.09522178, 0.44303797, ..., 0.        , 0.        ,\n",
       "        0.        ],\n",
       "       [0.0470392 , 0.08015071, 0.33601841, ..., 0.        , 0.        ,\n",
       "        0.        ]])"
      ]
     },
     "execution_count": 210,
     "metadata": {},
     "output_type": "execute_result"
    }
   ],
   "source": [
    "X_train_scaled"
   ]
  },
  {
   "cell_type": "code",
   "execution_count": 211,
   "id": "5527e385-e358-4f4f-a11e-156c1cdb1c4c",
   "metadata": {},
   "outputs": [],
   "source": [
    "def multi_input(x_test_scaled):\n",
    "    ## X / Y Split for test\n",
    "    X_test_multi_scaled = []\n",
    "    for index in range(n_steps, len(x_test_scaled)+1):\n",
    "        # find the end of this pattern\n",
    "        end_ix = index \n",
    "        out_end_ix = end_ix -1\n",
    "        # check if we are beyoind the dataset\n",
    "        if out_end_ix > len(x_test_scaled):\n",
    "            break\n",
    "        # gather input and output part of the pattern\n",
    "        seq_x= x_test_scaled[index - n_steps : index, :]\n",
    "        X_test_multi_scaled.append(seq_x)\n",
    "    X_test_multi_scaled = np.array(X_test_multi_scaled)\n",
    "    print('Predict_multi_scaled:', X_test_multi_scaled.shape)\n",
    "    return X_test_multi_scaled"
   ]
  },
  {
   "cell_type": "code",
   "execution_count": 212,
   "id": "bb043f46-a5f0-4c9c-9dc5-8c15c186b260",
   "metadata": {},
   "outputs": [],
   "source": [
    "def multi_input(x_train_scaled, y_train_scaled, x_val_scaled, y_val_scaled):\n",
    "    ## X / Y Split for train\n",
    "    X_train_multi_scaled, Y_train_multi_scaled = [], []\n",
    "    for index in range(n_steps, len(x_train_scaled)+1):\n",
    "        # find the end of this pattern\n",
    "        end_ix = index \n",
    "        out_end_ix = end_ix -1\n",
    "        # check if we are beyoind the dataset\n",
    "        if out_end_ix > len(x_train_scaled):\n",
    "            break\n",
    "        # gather input and output part of the pattern\n",
    "        seq_x, seq_y = x_train_scaled[index - n_steps: index, :], y_train_scaled[index - n_steps: index, -1]\n",
    "        X_train_multi_scaled.append(seq_x)\n",
    "        Y_train_multi_scaled.append(seq_y)\n",
    "    X_train_multi_scaled, Y_train_multi_scaled = np.array(X_train_multi_scaled), np.array(Y_train_multi_scaled) \n",
    "    print('X_train_multi_scaled:', X_train_multi_scaled.shape, 'Y_train_multi_scaled:', Y_train_multi_scaled.shape)\n",
    "    ## X / Y Split for val\n",
    "    X_val_multi_scaled, Y_val_multi_scaled = [], []\n",
    "    for index in range(n_steps, len(x_val_scaled)+1):\n",
    "        # find the end of this pattern\n",
    "        end_ix = index \n",
    "        out_end_ix = end_ix -1\n",
    "        # check if we are beyoind the dataset\n",
    "        if out_end_ix > len(x_val_scaled):\n",
    "            break\n",
    "        # gather input and output part of the pattern\n",
    "        seq_x, seq_y = x_val_scaled[index - n_steps : index, :], y_val_scaled[index - n_steps : index, -1]\n",
    "        X_val_multi_scaled.append(seq_x)\n",
    "        Y_val_multi_scaled.append(seq_y)\n",
    "    X_val_multi_scaled, Y_val_multi_scaled = np.array(X_val_multi_scaled), np.array(Y_val_multi_scaled) \n",
    "    print('X_val_multi_scaled:', X_val_multi_scaled.shape, 'Y_val_multi_scaled:', Y_val_multi_scaled.shape)\n",
    "    \n",
    "    return X_train_multi_scaled, Y_train_multi_scaled, X_val_multi_scaled, Y_val_multi_scaled"
   ]
  },
  {
   "cell_type": "code",
   "execution_count": 213,
   "id": "97b6927c-fad4-478c-bb92-2deb5c50216e",
   "metadata": {},
   "outputs": [
    {
     "data": {
      "text/plain": [
       "(21, 420)"
      ]
     },
     "execution_count": 213,
     "metadata": {},
     "output_type": "execute_result"
    }
   ],
   "source": [
    "np.shape(X_val_scaled)"
   ]
  },
  {
   "cell_type": "code",
   "execution_count": 214,
   "id": "48b0bc01-2c9b-472f-8913-1956acfade8e",
   "metadata": {},
   "outputs": [
    {
     "name": "stdout",
     "output_type": "stream",
     "text": [
      "X_train_multi_scaled: (177, 7, 420) Y_train_multi_scaled: (177, 7)\n",
      "X_val_multi_scaled: (15, 7, 420) Y_val_multi_scaled: (15, 7)\n"
     ]
    }
   ],
   "source": [
    "X_train_multi_scaled, Y_train_multi_scaled, X_val_multi_scaled, Y_val_multi_scaled = multi_input(X_train_scaled, Y_train_scaled, X_val_scaled, Y_val_scaled)"
   ]
  },
  {
   "cell_type": "code",
   "execution_count": 215,
   "id": "36ad1361-ce8d-4b3d-9d29-3fbd8b808b09",
   "metadata": {},
   "outputs": [],
   "source": [
    "raw_predictions_0=endpoint.predict(instances=X_val_multi_scaled.tolist()).predictions[0]"
   ]
  },
  {
   "cell_type": "code",
   "execution_count": 216,
   "id": "765d34a5-12c6-499b-b725-69949bb2cd8b",
   "metadata": {},
   "outputs": [],
   "source": [
    "\n",
    "predicted_values_0=inverse_scaling(np.array([raw_predictions_0])).round().tolist()"
   ]
  },
  {
   "cell_type": "code",
   "execution_count": 217,
   "id": "ad63564e-a65c-4d22-8d86-cdb86e1f03e3",
   "metadata": {},
   "outputs": [
    {
     "data": {
      "text/plain": [
       "[[42798.0, 39390.0, 41033.0, 43019.0, 36858.0, 41733.0, 39670.0]]"
      ]
     },
     "execution_count": 217,
     "metadata": {},
     "output_type": "execute_result"
    }
   ],
   "source": [
    "predicted_values_0"
   ]
  },
  {
   "cell_type": "code",
   "execution_count": 218,
   "id": "8842d03c-fec2-4a0a-9bff-0ba1173fd612",
   "metadata": {},
   "outputs": [],
   "source": [
    "raw_predictions_1=endpoint.predict(instances=X_val_multi_scaled.tolist()).predictions[1]\n",
    "predicted_values_1=inverse_scaling(np.array([raw_predictions_1])).round().tolist()"
   ]
  },
  {
   "cell_type": "code",
   "execution_count": 219,
   "id": "1341209f-1eb5-4e29-b924-70c39aa5d06b",
   "metadata": {},
   "outputs": [
    {
     "data": {
      "text/plain": [
       "[[40720.0, 39710.0, 41264.0, 39100.0, 41238.0, 38388.0, 44505.0]]"
      ]
     },
     "execution_count": 219,
     "metadata": {},
     "output_type": "execute_result"
    }
   ],
   "source": [
    "predicted_values_1"
   ]
  },
  {
   "cell_type": "code",
   "execution_count": 220,
   "id": "b977966c-1098-456e-9dc2-1c7c86ce4272",
   "metadata": {},
   "outputs": [
    {
     "data": {
      "text/plain": [
       "[[41539.0, 42447.0, 38084.0, 40652.0, 41121.0, 41008.0, 44422.0]]"
      ]
     },
     "execution_count": 220,
     "metadata": {},
     "output_type": "execute_result"
    }
   ],
   "source": [
    "raw_predictions_2=endpoint.predict(instances=X_val_multi_scaled.tolist()).predictions[2]\n",
    "predicted_values_2=inverse_scaling(np.array([raw_predictions_2])).round().tolist()\n",
    "predicted_values_2"
   ]
  },
  {
   "cell_type": "code",
   "execution_count": 221,
   "id": "600c5360-ddee-405c-b797-792282468a9a",
   "metadata": {},
   "outputs": [
    {
     "data": {
      "text/plain": [
       "[[43064.0, 39415.0, 38744.0, 42749.0, 41595.0, 43794.0, 43854.0]]"
      ]
     },
     "execution_count": 221,
     "metadata": {},
     "output_type": "execute_result"
    }
   ],
   "source": [
    "raw_predictions_3=endpoint.predict(instances=X_val_multi_scaled.tolist()).predictions[3]\n",
    "predicted_values_3=inverse_scaling(np.array([raw_predictions_3])).round().tolist()\n",
    "predicted_values_3"
   ]
  },
  {
   "cell_type": "code",
   "execution_count": 222,
   "id": "3ed70545-266a-4975-913b-31df7613a982",
   "metadata": {},
   "outputs": [
    {
     "data": {
      "text/plain": [
       "[[39674.0, 38584.0, 42280.0, 42713.0, 44625.0, 41277.0, 44253.0]]"
      ]
     },
     "execution_count": 222,
     "metadata": {},
     "output_type": "execute_result"
    }
   ],
   "source": [
    "raw_predictions_4=endpoint.predict(instances=X_val_multi_scaled.tolist()).predictions[4]\n",
    "predicted_values_4=inverse_scaling(np.array([raw_predictions_4])).round().tolist()\n",
    "predicted_values_4"
   ]
  },
  {
   "cell_type": "code",
   "execution_count": 223,
   "id": "8eab1d7b-22f0-47b8-976b-0bf79a954f69",
   "metadata": {},
   "outputs": [
    {
     "data": {
      "text/plain": [
       "[[37530.0, 42489.0, 41907.0, 44087.0, 43065.0, 41174.0, 40877.0]]"
      ]
     },
     "execution_count": 223,
     "metadata": {},
     "output_type": "execute_result"
    }
   ],
   "source": [
    "raw_predictions_5=endpoint.predict(instances=X_val_multi_scaled.tolist()).predictions[5]\n",
    "predicted_values_5=inverse_scaling(np.array([raw_predictions_5])).round().tolist()\n",
    "predicted_values_5"
   ]
  },
  {
   "cell_type": "code",
   "execution_count": 224,
   "id": "df55b481-94db-42ea-bcdf-1fdc5c27d0aa",
   "metadata": {},
   "outputs": [
    {
     "data": {
      "text/plain": [
       "[[42231.0, 42280.0, 44169.0, 43042.0, 41971.0, 40130.0, 40037.0]]"
      ]
     },
     "execution_count": 224,
     "metadata": {},
     "output_type": "execute_result"
    }
   ],
   "source": [
    "raw_predictions_6=endpoint.predict(instances=X_val_multi_scaled.tolist()).predictions[6]\n",
    "predicted_values_6=inverse_scaling(np.array([raw_predictions_6])).round().tolist()\n",
    "predicted_values_6"
   ]
  },
  {
   "cell_type": "code",
   "execution_count": 225,
   "id": "eee4345d-b03c-4619-a105-b7dca74ca5f9",
   "metadata": {},
   "outputs": [
    {
     "data": {
      "text/plain": [
       "[[43377.0, 43470.0, 42598.0, 41554.0, 39925.0, 39947.0, 40484.0]]"
      ]
     },
     "execution_count": 225,
     "metadata": {},
     "output_type": "execute_result"
    }
   ],
   "source": [
    "raw_predictions_7=endpoint.predict(instances=X_val_multi_scaled.tolist()).predictions[7]\n",
    "predicted_values_7=inverse_scaling(np.array([raw_predictions_7])).round().tolist()\n",
    "predicted_values_7"
   ]
  },
  {
   "cell_type": "code",
   "execution_count": 226,
   "id": "228bb3d3-d644-4aff-91ff-23dad0cd3c9d",
   "metadata": {},
   "outputs": [
    {
     "data": {
      "text/plain": [
       "[[45519.0, 43565.0, 40621.0, 42627.0, 35493.0, 41960.0, 37773.0]]"
      ]
     },
     "execution_count": 226,
     "metadata": {},
     "output_type": "execute_result"
    }
   ],
   "source": [
    "raw_predictions_8=endpoint.predict(instances=X_val_multi_scaled.tolist()).predictions[8]\n",
    "predicted_values_8=inverse_scaling(np.array([raw_predictions_8])).round().tolist()\n",
    "predicted_values_8"
   ]
  },
  {
   "cell_type": "code",
   "execution_count": 227,
   "id": "3fce6ac9-ee8d-4f7d-a4fe-f31c178de7d1",
   "metadata": {},
   "outputs": [
    {
     "data": {
      "text/plain": [
       "[[44653.0, 41981.0, 37840.0, 40433.0, 37072.0, 41340.0, 38523.0]]"
      ]
     },
     "execution_count": 227,
     "metadata": {},
     "output_type": "execute_result"
    }
   ],
   "source": [
    "raw_predictions_9=endpoint.predict(instances=X_val_multi_scaled.tolist()).predictions[9]\n",
    "predicted_values_9=inverse_scaling(np.array([raw_predictions_9])).round().tolist()\n",
    "predicted_values_9"
   ]
  },
  {
   "cell_type": "code",
   "execution_count": 228,
   "id": "40a7d27f-64af-4859-a4f7-2f653c84b3fa",
   "metadata": {},
   "outputs": [
    {
     "data": {
      "text/plain": [
       "[[43422.0, 39199.0, 38593.0, 39844.0, 38091.0, 40052.0, 39132.0]]"
      ]
     },
     "execution_count": 228,
     "metadata": {},
     "output_type": "execute_result"
    }
   ],
   "source": [
    "raw_predictions_10=endpoint.predict(instances=X_val_multi_scaled.tolist()).predictions[10]\n",
    "predicted_values_10=inverse_scaling(np.array([raw_predictions_10])).round().tolist()\n",
    "predicted_values_10"
   ]
  },
  {
   "cell_type": "code",
   "execution_count": 229,
   "id": "ac27ef6c-52fe-48e5-9a98-c23c6120d666",
   "metadata": {},
   "outputs": [
    {
     "data": {
      "text/plain": [
       "[[41074.0, 38711.0, 40088.0, 38282.0, 40032.0, 38132.0, 41625.0]]"
      ]
     },
     "execution_count": 229,
     "metadata": {},
     "output_type": "execute_result"
    }
   ],
   "source": [
    "raw_predictions_11=endpoint.predict(instances=X_val_multi_scaled.tolist()).predictions[11]\n",
    "predicted_values_11=inverse_scaling(np.array([raw_predictions_11])).round().tolist()\n",
    "predicted_values_11"
   ]
  },
  {
   "cell_type": "code",
   "execution_count": 230,
   "id": "f7f214f0-94ca-4046-bb93-f155dbe97703",
   "metadata": {},
   "outputs": [
    {
     "data": {
      "text/plain": [
       "[[41074.0, 38711.0, 40088.0, 38282.0, 40032.0, 38132.0, 41625.0]]"
      ]
     },
     "execution_count": 230,
     "metadata": {},
     "output_type": "execute_result"
    }
   ],
   "source": [
    "raw_predictions_12=endpoint.predict(instances=X_val_multi_scaled.tolist()).predictions[12]\n",
    "predicted_values_12=inverse_scaling(np.array([raw_predictions_11])).round().tolist()\n",
    "predicted_values_12"
   ]
  },
  {
   "cell_type": "code",
   "execution_count": 231,
   "id": "81756296-d608-41bc-ad47-740eb95adb1c",
   "metadata": {},
   "outputs": [
    {
     "data": {
      "text/plain": [
       "[[41074.0, 38711.0, 40088.0, 38282.0, 40032.0, 38132.0, 41625.0]]"
      ]
     },
     "execution_count": 231,
     "metadata": {},
     "output_type": "execute_result"
    }
   ],
   "source": [
    "raw_predictions_13=endpoint.predict(instances=X_val_multi_scaled.tolist()).predictions[13]\n",
    "predicted_values_13=inverse_scaling(np.array([raw_predictions_11])).round().tolist()\n",
    "predicted_values_13"
   ]
  },
  {
   "cell_type": "code",
   "execution_count": 232,
   "id": "560c95b7-e0ad-44fc-ba0c-203f80533bd0",
   "metadata": {},
   "outputs": [
    {
     "data": {
      "text/plain": [
       "[[41074.0, 38711.0, 40088.0, 38282.0, 40032.0, 38132.0, 41625.0]]"
      ]
     },
     "execution_count": 232,
     "metadata": {},
     "output_type": "execute_result"
    }
   ],
   "source": [
    "raw_predictions_14=endpoint.predict(instances=X_val_multi_scaled.tolist()).predictions[14]\n",
    "predicted_values_14=inverse_scaling(np.array([raw_predictions_11])).round().tolist()\n",
    "predicted_values_14"
   ]
  },
  {
   "cell_type": "code",
   "execution_count": null,
   "id": "4c71f984-895d-409c-b9c5-a2b71628f5c3",
   "metadata": {},
   "outputs": [],
   "source": []
  },
  {
   "cell_type": "code",
   "execution_count": null,
   "id": "464db27e-f9f4-4b6d-82ff-c36727cca8f3",
   "metadata": {},
   "outputs": [],
   "source": []
  },
  {
   "cell_type": "code",
   "execution_count": null,
   "id": "9fd0cf13-37c8-4059-a0e4-2a5466a43a98",
   "metadata": {},
   "outputs": [],
   "source": []
  },
  {
   "cell_type": "code",
   "execution_count": 233,
   "id": "3d8bdc35-832e-4ded-b308-90ea1ed19359",
   "metadata": {},
   "outputs": [],
   "source": [
    "predicted_vlaues_=predicted_values_0 + predicted_values_1+predicted_values_2 + predicted_values_3 +predicted_values_4 + predicted_values_5+predicted_values_6 + predicted_values_7+predicted_values_8+predicted_values_9+predicted_values_10 + predicted_values_11+predicted_values_12+predicted_values_13 + predicted_values_14"
   ]
  },
  {
   "cell_type": "code",
   "execution_count": 234,
   "id": "ad8d2591-7cf2-45ac-916e-c736cf02e91e",
   "metadata": {},
   "outputs": [
    {
     "data": {
      "text/plain": [
       "[[42798.0, 39390.0, 41033.0, 43019.0, 36858.0, 41733.0, 39670.0],\n",
       " [40720.0, 39710.0, 41264.0, 39100.0, 41238.0, 38388.0, 44505.0],\n",
       " [41539.0, 42447.0, 38084.0, 40652.0, 41121.0, 41008.0, 44422.0],\n",
       " [43064.0, 39415.0, 38744.0, 42749.0, 41595.0, 43794.0, 43854.0],\n",
       " [39674.0, 38584.0, 42280.0, 42713.0, 44625.0, 41277.0, 44253.0],\n",
       " [37530.0, 42489.0, 41907.0, 44087.0, 43065.0, 41174.0, 40877.0],\n",
       " [42231.0, 42280.0, 44169.0, 43042.0, 41971.0, 40130.0, 40037.0],\n",
       " [43377.0, 43470.0, 42598.0, 41554.0, 39925.0, 39947.0, 40484.0],\n",
       " [45519.0, 43565.0, 40621.0, 42627.0, 35493.0, 41960.0, 37773.0],\n",
       " [44653.0, 41981.0, 37840.0, 40433.0, 37072.0, 41340.0, 38523.0],\n",
       " [43422.0, 39199.0, 38593.0, 39844.0, 38091.0, 40052.0, 39132.0],\n",
       " [41074.0, 38711.0, 40088.0, 38282.0, 40032.0, 38132.0, 41625.0],\n",
       " [41074.0, 38711.0, 40088.0, 38282.0, 40032.0, 38132.0, 41625.0],\n",
       " [41074.0, 38711.0, 40088.0, 38282.0, 40032.0, 38132.0, 41625.0],\n",
       " [41074.0, 38711.0, 40088.0, 38282.0, 40032.0, 38132.0, 41625.0]]"
      ]
     },
     "execution_count": 234,
     "metadata": {},
     "output_type": "execute_result"
    }
   ],
   "source": [
    "predicted_vlaues_"
   ]
  },
  {
   "cell_type": "code",
   "execution_count": 235,
   "id": "71c67cc3-a474-4a93-9f12-f7d56540ee3c",
   "metadata": {},
   "outputs": [],
   "source": [
    "actual_values = inverse_scaling(np.array(Y_val_multi_scaled))"
   ]
  },
  {
   "cell_type": "code",
   "execution_count": 236,
   "id": "6eab2e00-449a-4273-8d84-d485dbc9d869",
   "metadata": {},
   "outputs": [],
   "source": [
    "actual_values_=actual_values.tolist()"
   ]
  },
  {
   "cell_type": "code",
   "execution_count": 237,
   "id": "48a03a22-3cae-4036-bd92-67488fb3c46c",
   "metadata": {},
   "outputs": [
    {
     "data": {
      "text/plain": [
       "[[41756.0, 40501.0, 40099.0, 42128.0, 40279.0, 39051.0, 42938.0],\n",
       " [40501.0, 40099.0, 42128.0, 40279.0, 39051.0, 42938.0, 44547.0],\n",
       " [40099.0, 42128.0, 40279.0, 39051.0, 42938.0, 44547.0, 46218.0],\n",
       " [42128.0, 40279.0, 39051.0, 42938.0, 44547.0, 46218.0, 47420.0],\n",
       " [40279.0, 39051.0, 42938.0, 44547.0, 46218.0, 47420.0, 43780.0],\n",
       " [39051.0, 42938.0, 44547.0, 46218.0, 47420.0, 43780.0, 41193.0],\n",
       " [42938.0, 44547.0, 46218.0, 47420.0, 43780.0, 41193.0, 39262.0],\n",
       " [44547.0, 46218.0, 47420.0, 43780.0, 41193.0, 39262.0, 37247.0],\n",
       " [46218.0, 47420.0, 43780.0, 41193.0, 39262.0, 37247.0, 38866.0],\n",
       " [47420.0, 43780.0, 41193.0, 39262.0, 37247.0, 38866.0, 40935.0],\n",
       " [43780.0, 41193.0, 39262.0, 37247.0, 38866.0, 40935.0, 40362.0],\n",
       " [41193.0, 39262.0, 37247.0, 38866.0, 40935.0, 40362.0, 42797.0],\n",
       " [39262.0, 37247.0, 38866.0, 40935.0, 40362.0, 42797.0, 43548.0],\n",
       " [37247.0, 38866.0, 40935.0, 40362.0, 42797.0, 43548.0, 39563.0],\n",
       " [38866.0, 40935.0, 40362.0, 42797.0, 43548.0, 39563.0, 39869.0]]"
      ]
     },
     "execution_count": 237,
     "metadata": {},
     "output_type": "execute_result"
    }
   ],
   "source": [
    "actual_values_"
   ]
  },
  {
   "cell_type": "code",
   "execution_count": 238,
   "id": "d3360275-19eb-4e0b-b23c-d08dd1b2a46e",
   "metadata": {},
   "outputs": [
    {
     "data": {
      "text/plain": [
       "1891.8380952380953"
      ]
     },
     "execution_count": 238,
     "metadata": {},
     "output_type": "execute_result"
    }
   ],
   "source": [
    "difference = []\n",
    "\n",
    "for a, b in zip(predicted_vlaues_, actual_values_):\n",
    "    for c, d in zip(a,b):\n",
    "        difference.append(c - d)\n",
    "\n",
    "difference \n",
    "\n",
    "for x in range(len(difference)):\n",
    "    difference[x]= abs(difference[x])\n",
    "\n",
    "def average(lst):\n",
    "    return sum(lst) / len(lst)\n",
    "\n",
    "average(difference)"
   ]
  },
  {
   "cell_type": "code",
   "execution_count": 239,
   "id": "02f71990-a724-4f1c-97c0-13548d8634c6",
   "metadata": {},
   "outputs": [
    {
     "data": {
      "text/html": [
       "<div>\n",
       "<style scoped>\n",
       "    .dataframe tbody tr th:only-of-type {\n",
       "        vertical-align: middle;\n",
       "    }\n",
       "\n",
       "    .dataframe tbody tr th {\n",
       "        vertical-align: top;\n",
       "    }\n",
       "\n",
       "    .dataframe thead th {\n",
       "        text-align: right;\n",
       "    }\n",
       "</style>\n",
       "<table border=\"1\" class=\"dataframe\">\n",
       "  <thead>\n",
       "    <tr style=\"text-align: right;\">\n",
       "      <th></th>\n",
       "      <th>0</th>\n",
       "      <th>1</th>\n",
       "      <th>2</th>\n",
       "      <th>3</th>\n",
       "      <th>4</th>\n",
       "      <th>5</th>\n",
       "      <th>6</th>\n",
       "    </tr>\n",
       "  </thead>\n",
       "  <tbody>\n",
       "    <tr>\n",
       "      <th>0</th>\n",
       "      <td>41756.0</td>\n",
       "      <td>40501.0</td>\n",
       "      <td>40099.0</td>\n",
       "      <td>42128.0</td>\n",
       "      <td>40279.0</td>\n",
       "      <td>39051.0</td>\n",
       "      <td>42938.0</td>\n",
       "    </tr>\n",
       "    <tr>\n",
       "      <th>1</th>\n",
       "      <td>40501.0</td>\n",
       "      <td>40099.0</td>\n",
       "      <td>42128.0</td>\n",
       "      <td>40279.0</td>\n",
       "      <td>39051.0</td>\n",
       "      <td>42938.0</td>\n",
       "      <td>44547.0</td>\n",
       "    </tr>\n",
       "    <tr>\n",
       "      <th>2</th>\n",
       "      <td>40099.0</td>\n",
       "      <td>42128.0</td>\n",
       "      <td>40279.0</td>\n",
       "      <td>39051.0</td>\n",
       "      <td>42938.0</td>\n",
       "      <td>44547.0</td>\n",
       "      <td>46218.0</td>\n",
       "    </tr>\n",
       "    <tr>\n",
       "      <th>3</th>\n",
       "      <td>42128.0</td>\n",
       "      <td>40279.0</td>\n",
       "      <td>39051.0</td>\n",
       "      <td>42938.0</td>\n",
       "      <td>44547.0</td>\n",
       "      <td>46218.0</td>\n",
       "      <td>47420.0</td>\n",
       "    </tr>\n",
       "    <tr>\n",
       "      <th>4</th>\n",
       "      <td>40279.0</td>\n",
       "      <td>39051.0</td>\n",
       "      <td>42938.0</td>\n",
       "      <td>44547.0</td>\n",
       "      <td>46218.0</td>\n",
       "      <td>47420.0</td>\n",
       "      <td>43780.0</td>\n",
       "    </tr>\n",
       "    <tr>\n",
       "      <th>5</th>\n",
       "      <td>39051.0</td>\n",
       "      <td>42938.0</td>\n",
       "      <td>44547.0</td>\n",
       "      <td>46218.0</td>\n",
       "      <td>47420.0</td>\n",
       "      <td>43780.0</td>\n",
       "      <td>41193.0</td>\n",
       "    </tr>\n",
       "    <tr>\n",
       "      <th>6</th>\n",
       "      <td>42938.0</td>\n",
       "      <td>44547.0</td>\n",
       "      <td>46218.0</td>\n",
       "      <td>47420.0</td>\n",
       "      <td>43780.0</td>\n",
       "      <td>41193.0</td>\n",
       "      <td>39262.0</td>\n",
       "    </tr>\n",
       "    <tr>\n",
       "      <th>7</th>\n",
       "      <td>44547.0</td>\n",
       "      <td>46218.0</td>\n",
       "      <td>47420.0</td>\n",
       "      <td>43780.0</td>\n",
       "      <td>41193.0</td>\n",
       "      <td>39262.0</td>\n",
       "      <td>37247.0</td>\n",
       "    </tr>\n",
       "    <tr>\n",
       "      <th>8</th>\n",
       "      <td>46218.0</td>\n",
       "      <td>47420.0</td>\n",
       "      <td>43780.0</td>\n",
       "      <td>41193.0</td>\n",
       "      <td>39262.0</td>\n",
       "      <td>37247.0</td>\n",
       "      <td>38866.0</td>\n",
       "    </tr>\n",
       "    <tr>\n",
       "      <th>9</th>\n",
       "      <td>47420.0</td>\n",
       "      <td>43780.0</td>\n",
       "      <td>41193.0</td>\n",
       "      <td>39262.0</td>\n",
       "      <td>37247.0</td>\n",
       "      <td>38866.0</td>\n",
       "      <td>40935.0</td>\n",
       "    </tr>\n",
       "    <tr>\n",
       "      <th>10</th>\n",
       "      <td>43780.0</td>\n",
       "      <td>41193.0</td>\n",
       "      <td>39262.0</td>\n",
       "      <td>37247.0</td>\n",
       "      <td>38866.0</td>\n",
       "      <td>40935.0</td>\n",
       "      <td>40362.0</td>\n",
       "    </tr>\n",
       "    <tr>\n",
       "      <th>11</th>\n",
       "      <td>41193.0</td>\n",
       "      <td>39262.0</td>\n",
       "      <td>37247.0</td>\n",
       "      <td>38866.0</td>\n",
       "      <td>40935.0</td>\n",
       "      <td>40362.0</td>\n",
       "      <td>42797.0</td>\n",
       "    </tr>\n",
       "    <tr>\n",
       "      <th>12</th>\n",
       "      <td>39262.0</td>\n",
       "      <td>37247.0</td>\n",
       "      <td>38866.0</td>\n",
       "      <td>40935.0</td>\n",
       "      <td>40362.0</td>\n",
       "      <td>42797.0</td>\n",
       "      <td>43548.0</td>\n",
       "    </tr>\n",
       "    <tr>\n",
       "      <th>13</th>\n",
       "      <td>37247.0</td>\n",
       "      <td>38866.0</td>\n",
       "      <td>40935.0</td>\n",
       "      <td>40362.0</td>\n",
       "      <td>42797.0</td>\n",
       "      <td>43548.0</td>\n",
       "      <td>39563.0</td>\n",
       "    </tr>\n",
       "    <tr>\n",
       "      <th>14</th>\n",
       "      <td>38866.0</td>\n",
       "      <td>40935.0</td>\n",
       "      <td>40362.0</td>\n",
       "      <td>42797.0</td>\n",
       "      <td>43548.0</td>\n",
       "      <td>39563.0</td>\n",
       "      <td>39869.0</td>\n",
       "    </tr>\n",
       "  </tbody>\n",
       "</table>\n",
       "</div>"
      ],
      "text/plain": [
       "          0        1        2        3        4        5        6\n",
       "0   41756.0  40501.0  40099.0  42128.0  40279.0  39051.0  42938.0\n",
       "1   40501.0  40099.0  42128.0  40279.0  39051.0  42938.0  44547.0\n",
       "2   40099.0  42128.0  40279.0  39051.0  42938.0  44547.0  46218.0\n",
       "3   42128.0  40279.0  39051.0  42938.0  44547.0  46218.0  47420.0\n",
       "4   40279.0  39051.0  42938.0  44547.0  46218.0  47420.0  43780.0\n",
       "5   39051.0  42938.0  44547.0  46218.0  47420.0  43780.0  41193.0\n",
       "6   42938.0  44547.0  46218.0  47420.0  43780.0  41193.0  39262.0\n",
       "7   44547.0  46218.0  47420.0  43780.0  41193.0  39262.0  37247.0\n",
       "8   46218.0  47420.0  43780.0  41193.0  39262.0  37247.0  38866.0\n",
       "9   47420.0  43780.0  41193.0  39262.0  37247.0  38866.0  40935.0\n",
       "10  43780.0  41193.0  39262.0  37247.0  38866.0  40935.0  40362.0\n",
       "11  41193.0  39262.0  37247.0  38866.0  40935.0  40362.0  42797.0\n",
       "12  39262.0  37247.0  38866.0  40935.0  40362.0  42797.0  43548.0\n",
       "13  37247.0  38866.0  40935.0  40362.0  42797.0  43548.0  39563.0\n",
       "14  38866.0  40935.0  40362.0  42797.0  43548.0  39563.0  39869.0"
      ]
     },
     "execution_count": 239,
     "metadata": {},
     "output_type": "execute_result"
    }
   ],
   "source": [
    "pd.DataFrame(actual_values_)"
   ]
  },
  {
   "cell_type": "code",
   "execution_count": 240,
   "id": "75c1c450-5b88-41db-963f-e67fa7ce1fb6",
   "metadata": {},
   "outputs": [
    {
     "data": {
      "text/html": [
       "<div>\n",
       "<style scoped>\n",
       "    .dataframe tbody tr th:only-of-type {\n",
       "        vertical-align: middle;\n",
       "    }\n",
       "\n",
       "    .dataframe tbody tr th {\n",
       "        vertical-align: top;\n",
       "    }\n",
       "\n",
       "    .dataframe thead th {\n",
       "        text-align: right;\n",
       "    }\n",
       "</style>\n",
       "<table border=\"1\" class=\"dataframe\">\n",
       "  <thead>\n",
       "    <tr style=\"text-align: right;\">\n",
       "      <th></th>\n",
       "      <th>0</th>\n",
       "      <th>1</th>\n",
       "      <th>2</th>\n",
       "      <th>3</th>\n",
       "      <th>4</th>\n",
       "      <th>5</th>\n",
       "      <th>6</th>\n",
       "    </tr>\n",
       "  </thead>\n",
       "  <tbody>\n",
       "    <tr>\n",
       "      <th>0</th>\n",
       "      <td>42798.0</td>\n",
       "      <td>39390.0</td>\n",
       "      <td>41033.0</td>\n",
       "      <td>43019.0</td>\n",
       "      <td>36858.0</td>\n",
       "      <td>41733.0</td>\n",
       "      <td>39670.0</td>\n",
       "    </tr>\n",
       "    <tr>\n",
       "      <th>1</th>\n",
       "      <td>40720.0</td>\n",
       "      <td>39710.0</td>\n",
       "      <td>41264.0</td>\n",
       "      <td>39100.0</td>\n",
       "      <td>41238.0</td>\n",
       "      <td>38388.0</td>\n",
       "      <td>44505.0</td>\n",
       "    </tr>\n",
       "    <tr>\n",
       "      <th>2</th>\n",
       "      <td>41539.0</td>\n",
       "      <td>42447.0</td>\n",
       "      <td>38084.0</td>\n",
       "      <td>40652.0</td>\n",
       "      <td>41121.0</td>\n",
       "      <td>41008.0</td>\n",
       "      <td>44422.0</td>\n",
       "    </tr>\n",
       "    <tr>\n",
       "      <th>3</th>\n",
       "      <td>43064.0</td>\n",
       "      <td>39415.0</td>\n",
       "      <td>38744.0</td>\n",
       "      <td>42749.0</td>\n",
       "      <td>41595.0</td>\n",
       "      <td>43794.0</td>\n",
       "      <td>43854.0</td>\n",
       "    </tr>\n",
       "    <tr>\n",
       "      <th>4</th>\n",
       "      <td>39674.0</td>\n",
       "      <td>38584.0</td>\n",
       "      <td>42280.0</td>\n",
       "      <td>42713.0</td>\n",
       "      <td>44625.0</td>\n",
       "      <td>41277.0</td>\n",
       "      <td>44253.0</td>\n",
       "    </tr>\n",
       "    <tr>\n",
       "      <th>5</th>\n",
       "      <td>37530.0</td>\n",
       "      <td>42489.0</td>\n",
       "      <td>41907.0</td>\n",
       "      <td>44087.0</td>\n",
       "      <td>43065.0</td>\n",
       "      <td>41174.0</td>\n",
       "      <td>40877.0</td>\n",
       "    </tr>\n",
       "    <tr>\n",
       "      <th>6</th>\n",
       "      <td>42231.0</td>\n",
       "      <td>42280.0</td>\n",
       "      <td>44169.0</td>\n",
       "      <td>43042.0</td>\n",
       "      <td>41971.0</td>\n",
       "      <td>40130.0</td>\n",
       "      <td>40037.0</td>\n",
       "    </tr>\n",
       "    <tr>\n",
       "      <th>7</th>\n",
       "      <td>43377.0</td>\n",
       "      <td>43470.0</td>\n",
       "      <td>42598.0</td>\n",
       "      <td>41554.0</td>\n",
       "      <td>39925.0</td>\n",
       "      <td>39947.0</td>\n",
       "      <td>40484.0</td>\n",
       "    </tr>\n",
       "    <tr>\n",
       "      <th>8</th>\n",
       "      <td>45519.0</td>\n",
       "      <td>43565.0</td>\n",
       "      <td>40621.0</td>\n",
       "      <td>42627.0</td>\n",
       "      <td>35493.0</td>\n",
       "      <td>41960.0</td>\n",
       "      <td>37773.0</td>\n",
       "    </tr>\n",
       "    <tr>\n",
       "      <th>9</th>\n",
       "      <td>44653.0</td>\n",
       "      <td>41981.0</td>\n",
       "      <td>37840.0</td>\n",
       "      <td>40433.0</td>\n",
       "      <td>37072.0</td>\n",
       "      <td>41340.0</td>\n",
       "      <td>38523.0</td>\n",
       "    </tr>\n",
       "    <tr>\n",
       "      <th>10</th>\n",
       "      <td>43422.0</td>\n",
       "      <td>39199.0</td>\n",
       "      <td>38593.0</td>\n",
       "      <td>39844.0</td>\n",
       "      <td>38091.0</td>\n",
       "      <td>40052.0</td>\n",
       "      <td>39132.0</td>\n",
       "    </tr>\n",
       "    <tr>\n",
       "      <th>11</th>\n",
       "      <td>41074.0</td>\n",
       "      <td>38711.0</td>\n",
       "      <td>40088.0</td>\n",
       "      <td>38282.0</td>\n",
       "      <td>40032.0</td>\n",
       "      <td>38132.0</td>\n",
       "      <td>41625.0</td>\n",
       "    </tr>\n",
       "    <tr>\n",
       "      <th>12</th>\n",
       "      <td>41074.0</td>\n",
       "      <td>38711.0</td>\n",
       "      <td>40088.0</td>\n",
       "      <td>38282.0</td>\n",
       "      <td>40032.0</td>\n",
       "      <td>38132.0</td>\n",
       "      <td>41625.0</td>\n",
       "    </tr>\n",
       "    <tr>\n",
       "      <th>13</th>\n",
       "      <td>41074.0</td>\n",
       "      <td>38711.0</td>\n",
       "      <td>40088.0</td>\n",
       "      <td>38282.0</td>\n",
       "      <td>40032.0</td>\n",
       "      <td>38132.0</td>\n",
       "      <td>41625.0</td>\n",
       "    </tr>\n",
       "    <tr>\n",
       "      <th>14</th>\n",
       "      <td>41074.0</td>\n",
       "      <td>38711.0</td>\n",
       "      <td>40088.0</td>\n",
       "      <td>38282.0</td>\n",
       "      <td>40032.0</td>\n",
       "      <td>38132.0</td>\n",
       "      <td>41625.0</td>\n",
       "    </tr>\n",
       "  </tbody>\n",
       "</table>\n",
       "</div>"
      ],
      "text/plain": [
       "          0        1        2        3        4        5        6\n",
       "0   42798.0  39390.0  41033.0  43019.0  36858.0  41733.0  39670.0\n",
       "1   40720.0  39710.0  41264.0  39100.0  41238.0  38388.0  44505.0\n",
       "2   41539.0  42447.0  38084.0  40652.0  41121.0  41008.0  44422.0\n",
       "3   43064.0  39415.0  38744.0  42749.0  41595.0  43794.0  43854.0\n",
       "4   39674.0  38584.0  42280.0  42713.0  44625.0  41277.0  44253.0\n",
       "5   37530.0  42489.0  41907.0  44087.0  43065.0  41174.0  40877.0\n",
       "6   42231.0  42280.0  44169.0  43042.0  41971.0  40130.0  40037.0\n",
       "7   43377.0  43470.0  42598.0  41554.0  39925.0  39947.0  40484.0\n",
       "8   45519.0  43565.0  40621.0  42627.0  35493.0  41960.0  37773.0\n",
       "9   44653.0  41981.0  37840.0  40433.0  37072.0  41340.0  38523.0\n",
       "10  43422.0  39199.0  38593.0  39844.0  38091.0  40052.0  39132.0\n",
       "11  41074.0  38711.0  40088.0  38282.0  40032.0  38132.0  41625.0\n",
       "12  41074.0  38711.0  40088.0  38282.0  40032.0  38132.0  41625.0\n",
       "13  41074.0  38711.0  40088.0  38282.0  40032.0  38132.0  41625.0\n",
       "14  41074.0  38711.0  40088.0  38282.0  40032.0  38132.0  41625.0"
      ]
     },
     "execution_count": 240,
     "metadata": {},
     "output_type": "execute_result"
    }
   ],
   "source": [
    "pd.DataFrame(predicted_vlaues_)"
   ]
  },
  {
   "cell_type": "code",
   "execution_count": 241,
   "id": "3c23fd3c-7122-43ae-b010-53811007dbff",
   "metadata": {},
   "outputs": [
    {
     "data": {
      "text/plain": [
       "0    42798.0\n",
       "1    39390.0\n",
       "2    41033.0\n",
       "3    43019.0\n",
       "4    36858.0\n",
       "5    41733.0\n",
       "6    39670.0\n",
       "Name: 0, dtype: float64"
      ]
     },
     "execution_count": 241,
     "metadata": {},
     "output_type": "execute_result"
    }
   ],
   "source": [
    "pd.DataFrame(predicted_vlaues_)[0:1][:7].squeeze()"
   ]
  },
  {
   "cell_type": "code",
   "execution_count": 242,
   "id": "b0c5e597-c405-4529-9308-4a8fa9e531c9",
   "metadata": {},
   "outputs": [
    {
     "data": {
      "text/plain": [
       "0    41756.0\n",
       "1    40501.0\n",
       "2    40099.0\n",
       "3    42128.0\n",
       "4    40279.0\n",
       "5    39051.0\n",
       "6    42938.0\n",
       "Name: 0, dtype: float64"
      ]
     },
     "execution_count": 242,
     "metadata": {},
     "output_type": "execute_result"
    }
   ],
   "source": [
    "pd.DataFrame(actual_values_)[0:1][:7].squeeze()"
   ]
  },
  {
   "cell_type": "code",
   "execution_count": 243,
   "id": "b2efa4ac-af0e-4748-bafe-d9c0523aa7af",
   "metadata": {},
   "outputs": [
    {
     "data": {
      "image/png": "[encoded data removed]",
      "text/plain": [
       "<Figure size 432x288 with 1 Axes>"
      ]
     },
     "metadata": {
      "needs_background": "light"
     },
     "output_type": "display_data"
    }
   ],
   "source": [
    "a_0=pd.DataFrame(actual_values_)[0:1][:7].squeeze()\n",
    "p_0=pd.DataFrame(predicted_vlaues_)[0:1][:7].squeeze()\n",
    "df_0=pd.concat([a_0,p_0], axis=1)\n",
    "df_0.plot()\n",
    "plt.title(\"Pandas의 Plot메소드 사용 예\")\n",
    "plt.xlabel(\"시간\")\n",
    "plt.ylabel(\"Data\")\n",
    "plt.show()"
   ]
  },
  {
   "cell_type": "code",
   "execution_count": 244,
   "id": "b8b6b690-1995-4767-86b8-590701811154",
   "metadata": {},
   "outputs": [
    {
     "data": {
      "image/png": "[encoded data removed]",
      "text/plain": [
       "<Figure size 432x288 with 1 Axes>"
      ]
     },
     "metadata": {
      "needs_background": "light"
     },
     "output_type": "display_data"
    }
   ],
   "source": [
    "a_0=pd.DataFrame(actual_values_)[1:2][:7].squeeze()\n",
    "p_0=pd.DataFrame(predicted_vlaues_)[1:2][:7].squeeze()\n",
    "df_0=pd.concat([a_0,p_0], axis=1)\n",
    "df_0.plot()\n",
    "plt.title(\"Pandas의 Plot메소드 사용 예\")\n",
    "plt.xlabel(\"시간\")\n",
    "plt.ylabel(\"Data\")\n",
    "plt.show()"
   ]
  },
  {
   "cell_type": "code",
   "execution_count": 245,
   "id": "7c6c2114-42b4-419b-bf15-ab4a04b5e26a",
   "metadata": {},
   "outputs": [
    {
     "data": {
      "image/png": "[encoded data removed]",
      "text/plain": [
       "<Figure size 432x288 with 1 Axes>"
      ]
     },
     "metadata": {
      "needs_background": "light"
     },
     "output_type": "display_data"
    }
   ],
   "source": [
    "a_0=pd.DataFrame(actual_values_)[2:3][:7].squeeze()\n",
    "p_0=pd.DataFrame(predicted_vlaues_)[2:3][:7].squeeze()\n",
    "df_0=pd.concat([a_0,p_0], axis=1)\n",
    "df_0.plot()\n",
    "plt.title(\"Pandas의 Plot메소드 사용 예\")\n",
    "plt.xlabel(\"시간\")\n",
    "plt.ylabel(\"Data\")\n",
    "plt.show()"
   ]
  },
  {
   "cell_type": "code",
   "execution_count": 246,
   "id": "1ca743aa-8f3a-43d5-9d6b-f1df1f2e8d90",
   "metadata": {},
   "outputs": [
    {
     "data": {
      "image/png": "[encoded data removed]",
      "text/plain": [
       "<Figure size 432x288 with 1 Axes>"
      ]
     },
     "metadata": {
      "needs_background": "light"
     },
     "output_type": "display_data"
    }
   ],
   "source": [
    "a_0=pd.DataFrame(actual_values_)[3:4][:7].squeeze()\n",
    "p_0=pd.DataFrame(predicted_vlaues_)[3:4][:7].squeeze()\n",
    "df_0=pd.concat([a_0,p_0], axis=1)\n",
    "df_0.plot()\n",
    "plt.title(\"Pandas의 Plot메소드 사용 예\")\n",
    "plt.xlabel(\"시간\")\n",
    "plt.ylabel(\"Data\")\n",
    "plt.show()"
   ]
  },
  {
   "cell_type": "code",
   "execution_count": 247,
   "id": "83160705-1b80-463c-9924-dc22ae1cd5a7",
   "metadata": {},
   "outputs": [
    {
     "data": {
      "image/png": "[encoded data removed]",
      "text/plain": [
       "<Figure size 432x288 with 1 Axes>"
      ]
     },
     "metadata": {
      "needs_background": "light"
     },
     "output_type": "display_data"
    }
   ],
   "source": [
    "a_0=pd.DataFrame(actual_values_)[4:5][:7].squeeze()\n",
    "p_0=pd.DataFrame(predicted_vlaues_)[4:5][:7].squeeze()\n",
    "df_0=pd.concat([a_0,p_0], axis=1)\n",
    "df_0.plot()\n",
    "plt.title(\"Pandas의 Plot메소드 사용 예\")\n",
    "plt.xlabel(\"시간\")\n",
    "plt.ylabel(\"Data\")\n",
    "plt.show()"
   ]
  },
  {
   "cell_type": "code",
   "execution_count": 248,
   "id": "9b181941-5a3c-402b-8573-85976d8ffdba",
   "metadata": {},
   "outputs": [
    {
     "data": {
      "image/png": "[encoded data removed]",
      "text/plain": [
       "<Figure size 432x288 with 1 Axes>"
      ]
     },
     "metadata": {
      "needs_background": "light"
     },
     "output_type": "display_data"
    }
   ],
   "source": [
    "a_0=pd.DataFrame(actual_values_)[5:6][:7].squeeze()\n",
    "p_0=pd.DataFrame(predicted_vlaues_)[5:6][:7].squeeze()\n",
    "df_0=pd.concat([a_0,p_0], axis=1)\n",
    "df_0.plot()\n",
    "plt.title(\"Pandas의 Plot메소드 사용 예\")\n",
    "plt.xlabel(\"시간\")\n",
    "plt.ylabel(\"Data\")\n",
    "plt.show()"
   ]
  },
  {
   "cell_type": "code",
   "execution_count": 249,
   "id": "29cb815b-927a-4959-a2a4-65813e9c4545",
   "metadata": {},
   "outputs": [
    {
     "data": {
      "text/plain": [
       "Text(0, 0.5, 'Data')"
      ]
     },
     "execution_count": 249,
     "metadata": {},
     "output_type": "execute_result"
    },
    {
     "data": {
      "image/png": "[encoded data removed]",
      "text/plain": [
       "<Figure size 432x288 with 1 Axes>"
      ]
     },
     "metadata": {
      "needs_background": "light"
     },
     "output_type": "display_data"
    }
   ],
   "source": [
    "a_0=pd.DataFrame(actual_values_)[6:7][:7].squeeze()\n",
    "p_0=pd.DataFrame(predicted_vlaues_)[6:7][:7].squeeze()\n",
    "df_0=pd.concat([a_0,p_0], axis=1)\n",
    "df_0.plot()\n",
    "plt.title(\"Pandas의 Plot메소드 사용 예\")\n",
    "plt.xlabel(\"시간\")\n",
    "plt.ylabel(\"Data\")"
   ]
  },
  {
   "cell_type": "code",
   "execution_count": 250,
   "id": "1c4a7b20-9138-4671-ad94-81bbf86df725",
   "metadata": {},
   "outputs": [
    {
     "data": {
      "text/plain": [
       "Text(0, 0.5, 'Data')"
      ]
     },
     "execution_count": 250,
     "metadata": {},
     "output_type": "execute_result"
    },
    {
     "data": {
      "image/png": "[encoded data removed]",
      "text/plain": [
       "<Figure size 432x288 with 1 Axes>"
      ]
     },
     "metadata": {
      "needs_background": "light"
     },
     "output_type": "display_data"
    }
   ],
   "source": [
    "a_0=pd.DataFrame(actual_values_)[7:8][:7].squeeze()\n",
    "p_0=pd.DataFrame(predicted_vlaues_)[7:8][:7].squeeze()\n",
    "df_0=pd.concat([a_0,p_0], axis=1)\n",
    "df_0.plot()\n",
    "plt.title(\"Pandas의 Plot메소드 사용 예\")\n",
    "plt.xlabel(\"시간\")\n",
    "plt.ylabel(\"Data\")"
   ]
  },
  {
   "cell_type": "code",
   "execution_count": 251,
   "id": "492ff793-92ee-42a3-b460-3ce0b19b768e",
   "metadata": {},
   "outputs": [
    {
     "data": {
      "text/plain": [
       "Text(0, 0.5, 'Data')"
      ]
     },
     "execution_count": 251,
     "metadata": {},
     "output_type": "execute_result"
    },
    {
     "data": {
      "image/png": "[encoded data removed]",
      "text/plain": [
       "<Figure size 432x288 with 1 Axes>"
      ]
     },
     "metadata": {
      "needs_background": "light"
     },
     "output_type": "display_data"
    }
   ],
   "source": [
    "a_0=pd.DataFrame(actual_values_)[8:9][:7].squeeze()\n",
    "p_0=pd.DataFrame(predicted_vlaues_)[8:9][:7].squeeze()\n",
    "df_0=pd.concat([a_0,p_0], axis=1)\n",
    "df_0.plot()\n",
    "plt.title(\"Pandas의 Plot메소드 사용 예\")\n",
    "plt.xlabel(\"시간\")\n",
    "plt.ylabel(\"Data\")"
   ]
  },
  {
   "cell_type": "code",
   "execution_count": 252,
   "id": "11989a00-40eb-4c48-8d06-54e4081a7220",
   "metadata": {},
   "outputs": [
    {
     "data": {
      "text/plain": [
       "Text(0, 0.5, 'Data')"
      ]
     },
     "execution_count": 252,
     "metadata": {},
     "output_type": "execute_result"
    },
    {
     "data": {
      "image/png": "[encoded data removed]",
      "text/plain": [
       "<Figure size 432x288 with 1 Axes>"
      ]
     },
     "metadata": {
      "needs_background": "light"
     },
     "output_type": "display_data"
    }
   ],
   "source": [
    "a_0=pd.DataFrame(actual_values_)[9:10][:7].squeeze()\n",
    "p_0=pd.DataFrame(predicted_vlaues_)[9:10][:7].squeeze()\n",
    "df_0=pd.concat([a_0,p_0], axis=1)\n",
    "df_0.plot()\n",
    "plt.title(\"Pandas의 Plot메소드 사용 예\")\n",
    "plt.xlabel(\"시간\")\n",
    "plt.ylabel(\"Data\")"
   ]
  },
  {
   "cell_type": "code",
   "execution_count": 253,
   "id": "b57e342c-7393-4a0b-9e3c-00c9e902e9f6",
   "metadata": {},
   "outputs": [
    {
     "data": {
      "text/plain": [
       "Text(0, 0.5, 'Data')"
      ]
     },
     "execution_count": 253,
     "metadata": {},
     "output_type": "execute_result"
    },
    {
     "data": {
      "image/png": "[encoded data removed]",
      "text/plain": [
       "<Figure size 432x288 with 1 Axes>"
      ]
     },
     "metadata": {
      "needs_background": "light"
     },
     "output_type": "display_data"
    }
   ],
   "source": [
    "a_0=pd.DataFrame(actual_values_)[10:11][:7].squeeze()\n",
    "p_0=pd.DataFrame(predicted_vlaues_)[10:11][:7].squeeze()\n",
    "df_0=pd.concat([a_0,p_0], axis=1)\n",
    "df_0.plot()\n",
    "plt.title(\"Pandas의 Plot메소드 사용 예\")\n",
    "plt.xlabel(\"시간\")\n",
    "plt.ylabel(\"Data\")"
   ]
  },
  {
   "cell_type": "code",
   "execution_count": 254,
   "id": "db83a2c9-fee8-4803-a48d-c705f2d1810e",
   "metadata": {},
   "outputs": [
    {
     "data": {
      "text/plain": [
       "Text(0, 0.5, 'Data')"
      ]
     },
     "execution_count": 254,
     "metadata": {},
     "output_type": "execute_result"
    },
    {
     "data": {
      "image/png": "[encoded data removed]",
      "text/plain": [
       "<Figure size 432x288 with 1 Axes>"
      ]
     },
     "metadata": {
      "needs_background": "light"
     },
     "output_type": "display_data"
    }
   ],
   "source": [
    "a_0=pd.DataFrame(actual_values_)[11:12][:7].squeeze()\n",
    "p_0=pd.DataFrame(predicted_vlaues_)[11:12][:7].squeeze()\n",
    "df_0=pd.concat([a_0,p_0], axis=1)\n",
    "df_0.plot()\n",
    "plt.title(\"Pandas의 Plot메소드 사용 예\")\n",
    "plt.xlabel(\"시간\")\n",
    "plt.ylabel(\"Data\")"
   ]
  },
  {
   "cell_type": "code",
   "execution_count": 255,
   "id": "a754717f-9a4f-4685-a650-afb3bd11109e",
   "metadata": {},
   "outputs": [
    {
     "data": {
      "text/plain": [
       "Text(0, 0.5, 'Data')"
      ]
     },
     "execution_count": 255,
     "metadata": {},
     "output_type": "execute_result"
    },
    {
     "data": {
      "image/png": "[encoded data removed]",
      "text/plain": [
       "<Figure size 432x288 with 1 Axes>"
      ]
     },
     "metadata": {
      "needs_background": "light"
     },
     "output_type": "display_data"
    }
   ],
   "source": [
    "a_0=pd.DataFrame(actual_values_)[12:13][:7].squeeze()\n",
    "p_0=pd.DataFrame(predicted_vlaues_)[12:13][:7].squeeze()\n",
    "df_0=pd.concat([a_0,p_0], axis=1)\n",
    "df_0.plot()\n",
    "plt.title(\"Pandas의 Plot메소드 사용 예\")\n",
    "plt.xlabel(\"시간\")\n",
    "plt.ylabel(\"Data\")"
   ]
  },
  {
   "cell_type": "code",
   "execution_count": null,
   "id": "f90dbb00-2761-4186-be16-2b30cb286c56",
   "metadata": {},
   "outputs": [],
   "source": []
  },
  {
   "cell_type": "code",
   "execution_count": null,
   "id": "801b2ae1-22d2-45c1-a456-470a2030e15e",
   "metadata": {},
   "outputs": [],
   "source": []
  }
 ],
 "metadata": {
  "environment": {
   "kernel": "python3",
   "name": "tf2-gpu.2-6.m95",
   "type": "gcloud",
   "uri": "gcr.io/deeplearning-platform-release/tf2-gpu.2-6:m95"
  },
  "kernelspec": {
   "display_name": "Python 3",
   "language": "python",
   "name": "python3"
  },
  "language_info": {
   "codemirror_mode": {
    "name": "ipython",
    "version": 3
   },
   "file_extension": ".py",
   "mimetype": "text/x-python",
   "name": "python",
   "nbconvert_exporter": "python",
   "pygments_lexer": "ipython3",
   "version": "3.7.12"
  }
 },
 "nbformat": 4,
 "nbformat_minor": 5
}
